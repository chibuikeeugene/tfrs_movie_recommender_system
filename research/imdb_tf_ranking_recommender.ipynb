{
 "cells": [
  {
   "cell_type": "code",
   "execution_count": 1,
   "metadata": {},
   "outputs": [
    {
     "name": "stderr",
     "output_type": "stream",
     "text": [
      "2024-09-07 12:41:19.298982: I external/local_tsl/tsl/cuda/cudart_stub.cc:32] Could not find cuda drivers on your machine, GPU will not be used.\n",
      "2024-09-07 12:41:19.495095: I external/local_tsl/tsl/cuda/cudart_stub.cc:32] Could not find cuda drivers on your machine, GPU will not be used.\n",
      "2024-09-07 12:41:19.653529: E external/local_xla/xla/stream_executor/cuda/cuda_fft.cc:479] Unable to register cuFFT factory: Attempting to register factory for plugin cuFFT when one has already been registered\n",
      "2024-09-07 12:41:19.840423: E external/local_xla/xla/stream_executor/cuda/cuda_dnn.cc:10575] Unable to register cuDNN factory: Attempting to register factory for plugin cuDNN when one has already been registered\n",
      "2024-09-07 12:41:19.840861: E external/local_xla/xla/stream_executor/cuda/cuda_blas.cc:1442] Unable to register cuBLAS factory: Attempting to register factory for plugin cuBLAS when one has already been registered\n",
      "2024-09-07 12:41:20.184757: I tensorflow/core/platform/cpu_feature_guard.cc:210] This TensorFlow binary is optimized to use available CPU instructions in performance-critical operations.\n",
      "To enable the following instructions: AVX2 FMA, in other operations, rebuild TensorFlow with the appropriate compiler flags.\n",
      "2024-09-07 12:41:24.414713: W tensorflow/compiler/tf2tensorrt/utils/py_utils.cc:38] TF-TRT Warning: Could not find TensorRT\n"
     ]
    }
   ],
   "source": [
    "import pandas as pd\n",
    "import tensorflow as tf \n",
    "import tensorflow_recommenders as tfrs \n",
    "from typing import Dict, Text"
   ]
  },
  {
   "cell_type": "code",
   "execution_count": 2,
   "metadata": {},
   "outputs": [],
   "source": [
    "# loading the data sources\n",
    "user_movie_title_rating_data = pd.read_csv('/workspaces/imdb_movie_deep_learning_tf_recommender/research/sliced_user_id_and_movie_title_data.csv')\n",
    "# user_rating_data = pd.read_csv('/Users/eugene/Personal_Projects/Real_ML_Project/imdb_dataset/title.user-rating.csv')\n",
    "# movie_data = pd.read_csv('/Users/eugene/Personal_Projects/Real_ML_Project/imdb_dataset/title.basics.csv')\n",
    "# average_rating_data =  pd.read_csv('/Users/eugene/Personal_Projects/Real_ML_Project/imdb_dataset/title.ratings.csv')\n",
    "# basics_data = pd.read_csv('/Users/eugene/Personal_Projects/Real_ML_Project/imdb_dataset/name.basics.csv')\n",
    "# principals_data = pd.read_csv('/Users/eugene/Personal_Projects/Real_ML_Project/imdb_dataset/title.principals.csv')"
   ]
  },
  {
   "cell_type": "code",
   "execution_count": 3,
   "metadata": {},
   "outputs": [
    {
     "data": {
      "text/html": [
       "<div>\n",
       "<style scoped>\n",
       "    .dataframe tbody tr th:only-of-type {\n",
       "        vertical-align: middle;\n",
       "    }\n",
       "\n",
       "    .dataframe tbody tr th {\n",
       "        vertical-align: top;\n",
       "    }\n",
       "\n",
       "    .dataframe thead th {\n",
       "        text-align: right;\n",
       "    }\n",
       "</style>\n",
       "<table border=\"1\" class=\"dataframe\">\n",
       "  <thead>\n",
       "    <tr style=\"text-align: right;\">\n",
       "      <th></th>\n",
       "      <th>userID</th>\n",
       "      <th>movieID</th>\n",
       "      <th>originalTitle</th>\n",
       "      <th>rating</th>\n",
       "      <th>review date</th>\n",
       "    </tr>\n",
       "  </thead>\n",
       "  <tbody>\n",
       "    <tr>\n",
       "      <th>0</th>\n",
       "      <td>ur4592644</td>\n",
       "      <td>tt0120884</td>\n",
       "      <td>When the Light Comes</td>\n",
       "      <td>10</td>\n",
       "      <td>16 January 2005</td>\n",
       "    </tr>\n",
       "    <tr>\n",
       "      <th>1</th>\n",
       "      <td>ur3174947</td>\n",
       "      <td>tt0118688</td>\n",
       "      <td>Batman &amp; Robin</td>\n",
       "      <td>3</td>\n",
       "      <td>16 January 2005</td>\n",
       "    </tr>\n",
       "    <tr>\n",
       "      <th>2</th>\n",
       "      <td>ur3780035</td>\n",
       "      <td>tt0387887</td>\n",
       "      <td>Bottom Live 2003: Weapons Grade Y-Fronts Tour</td>\n",
       "      <td>8</td>\n",
       "      <td>16 January 2005</td>\n",
       "    </tr>\n",
       "    <tr>\n",
       "      <th>3</th>\n",
       "      <td>ur4592628</td>\n",
       "      <td>tt0346491</td>\n",
       "      <td>Alexander</td>\n",
       "      <td>1</td>\n",
       "      <td>16 January 2005</td>\n",
       "    </tr>\n",
       "    <tr>\n",
       "      <th>4</th>\n",
       "      <td>ur3174947</td>\n",
       "      <td>tt0094721</td>\n",
       "      <td>Beetlejuice</td>\n",
       "      <td>8</td>\n",
       "      <td>16 January 2005</td>\n",
       "    </tr>\n",
       "  </tbody>\n",
       "</table>\n",
       "</div>"
      ],
      "text/plain": [
       "      userID    movieID                                  originalTitle  \\\n",
       "0  ur4592644  tt0120884                           When the Light Comes   \n",
       "1  ur3174947  tt0118688                                 Batman & Robin   \n",
       "2  ur3780035  tt0387887  Bottom Live 2003: Weapons Grade Y-Fronts Tour   \n",
       "3  ur4592628  tt0346491                                      Alexander   \n",
       "4  ur3174947  tt0094721                                    Beetlejuice   \n",
       "\n",
       "   rating      review date  \n",
       "0      10  16 January 2005  \n",
       "1       3  16 January 2005  \n",
       "2       8  16 January 2005  \n",
       "3       1  16 January 2005  \n",
       "4       8  16 January 2005  "
      ]
     },
     "execution_count": 3,
     "metadata": {},
     "output_type": "execute_result"
    }
   ],
   "source": [
    "# visualize data\n",
    "user_movie_title_rating_data.head()\n",
    "# # rename the tconst to movieID\n",
    "# movie_data.rename(columns={'tconst': 'movieID'}, inplace=True)\n",
    "\n",
    "# # performing a merge operation to expand the user rating data with movie titles\n",
    "# user_rating_data_with_movies_title = user_rating_data.merge(movie_data, how='left', on='movieID')\n",
    "# user_rating_data_with_movies_title = user_rating_data_with_movies_title[['userID', 'movieID','originalTitle', 'rating', 'review date']]\n"
   ]
  },
  {
   "cell_type": "code",
   "execution_count": 4,
   "metadata": {},
   "outputs": [
    {
     "data": {
      "text/html": [
       "<div>\n",
       "<style scoped>\n",
       "    .dataframe tbody tr th:only-of-type {\n",
       "        vertical-align: middle;\n",
       "    }\n",
       "\n",
       "    .dataframe tbody tr th {\n",
       "        vertical-align: top;\n",
       "    }\n",
       "\n",
       "    .dataframe thead th {\n",
       "        text-align: right;\n",
       "    }\n",
       "</style>\n",
       "<table border=\"1\" class=\"dataframe\">\n",
       "  <thead>\n",
       "    <tr style=\"text-align: right;\">\n",
       "      <th></th>\n",
       "      <th>userID</th>\n",
       "      <th>originalTitle</th>\n",
       "      <th>rating</th>\n",
       "    </tr>\n",
       "  </thead>\n",
       "  <tbody>\n",
       "    <tr>\n",
       "      <th>0</th>\n",
       "      <td>ur4592644</td>\n",
       "      <td>When the Light Comes</td>\n",
       "      <td>10</td>\n",
       "    </tr>\n",
       "    <tr>\n",
       "      <th>1</th>\n",
       "      <td>ur3174947</td>\n",
       "      <td>Batman &amp; Robin</td>\n",
       "      <td>3</td>\n",
       "    </tr>\n",
       "    <tr>\n",
       "      <th>2</th>\n",
       "      <td>ur3780035</td>\n",
       "      <td>Bottom Live 2003: Weapons Grade Y-Fronts Tour</td>\n",
       "      <td>8</td>\n",
       "    </tr>\n",
       "    <tr>\n",
       "      <th>3</th>\n",
       "      <td>ur4592628</td>\n",
       "      <td>Alexander</td>\n",
       "      <td>1</td>\n",
       "    </tr>\n",
       "    <tr>\n",
       "      <th>4</th>\n",
       "      <td>ur3174947</td>\n",
       "      <td>Beetlejuice</td>\n",
       "      <td>8</td>\n",
       "    </tr>\n",
       "  </tbody>\n",
       "</table>\n",
       "</div>"
      ],
      "text/plain": [
       "      userID                                  originalTitle  rating\n",
       "0  ur4592644                           When the Light Comes      10\n",
       "1  ur3174947                                 Batman & Robin       3\n",
       "2  ur3780035  Bottom Live 2003: Weapons Grade Y-Fronts Tour       8\n",
       "3  ur4592628                                      Alexander       1\n",
       "4  ur3174947                                    Beetlejuice       8"
      ]
     },
     "execution_count": 4,
     "metadata": {},
     "output_type": "execute_result"
    }
   ],
   "source": [
    "# # Select basic feature for modeling \n",
    "# user_id_and_movie_title_data = user_rating_data_with_movies_title[['userID', 'originalTitle','rating']]\n",
    "# user_id_and_movie_title_data.head()"
   ]
  },
  {
   "cell_type": "code",
   "execution_count": 5,
   "metadata": {},
   "outputs": [],
   "source": [
    "# # experimental step of extracting just a slice of our data for testing purposes\n",
    "# sliced_user_id_and_movie_title_data = user_id_and_movie_title_data[0:10000]"
   ]
  },
  {
   "cell_type": "code",
   "execution_count": 4,
   "metadata": {},
   "outputs": [],
   "source": [
    "# create a new movie title list that enforces type uniformity in its values\n",
    "# this step came up because of inconsitency when creating movie title vocabulary\n",
    "updated_movie_titles = []\n",
    "for i in user_movie_title_rating_data['originalTitle']:\n",
    "    if type(i) != 'str':\n",
    "        a = str(i)\n",
    "        updated_movie_titles.append(a)\n",
    "    else:\n",
    "        updated_movie_titles.append(i)\n",
    "\n",
    "# assign the new list to the original title column of the sliced user id and movie title data\n",
    "user_movie_title_rating_data['originalTitle'] = updated_movie_titles"
   ]
  },
  {
   "cell_type": "code",
   "execution_count": 5,
   "metadata": {},
   "outputs": [],
   "source": [
    "# obtain the tensor form for our user_id_and_movie_title dataset. \n",
    "# This is essential during the model fit operation\n",
    "user_movie_title_rating_data_tensor = tf.data.Dataset.from_tensor_slices({'userID': tf.cast(user_movie_title_rating_data['userID'].values, tf.string),\n",
    "                                    'originalTitle': tf.cast(user_movie_title_rating_data['originalTitle'].values, tf.string),\n",
    "                                    'rating': tf.cast(user_movie_title_rating_data['rating'].values, tf.int64)})"
   ]
  },
  {
   "cell_type": "code",
   "execution_count": 8,
   "metadata": {},
   "outputs": [],
   "source": [
    "# shuffle the user_id_movie_title dataset\n",
    "tf.random.set_seed(42)\n",
    "user_movie_title_rating_data_tensor_shuffled= user_movie_title_rating_data_tensor.shuffle(50000, seed=42, reshuffle_each_iteration=False)"
   ]
  },
  {
   "cell_type": "code",
   "execution_count": 9,
   "metadata": {},
   "outputs": [],
   "source": [
    "# split the data into train and test\n",
    "train = user_movie_title_rating_data_tensor_shuffled.take(40000)\n",
    "test = user_movie_title_rating_data_tensor_shuffled.skip(40000).take(10000)"
   ]
  },
  {
   "cell_type": "code",
   "execution_count": 10,
   "metadata": {},
   "outputs": [],
   "source": [
    "#get the unique user ids and movie titles for the purpose of embedding\n",
    "unique_user_ids = user_movie_title_rating_data['userID'].unique()\n",
    "unique_movie_titles = user_movie_title_rating_data['originalTitle'].unique()"
   ]
  },
  {
   "cell_type": "code",
   "execution_count": 11,
   "metadata": {},
   "outputs": [],
   "source": [
    "# Define the ranking model architecture\n",
    "class RankingModel(tf.keras.Model):\n",
    "\n",
    "  def __init__(self):\n",
    "    super().__init__()\n",
    "    embedding_dimension = 32\n",
    "\n",
    "    # Compute embeddings for users.\n",
    "    self.user_embeddings = tf.keras.Sequential([\n",
    "      tf.keras.layers.StringLookup(\n",
    "        vocabulary=unique_user_ids, mask_token=None),\n",
    "      tf.keras.layers.Embedding(len(unique_user_ids) + 1, embedding_dimension)\n",
    "    ])\n",
    "\n",
    "    # Compute embeddings for movies.\n",
    "    self.movie_embeddings = tf.keras.Sequential([\n",
    "      tf.keras.layers.StringLookup(\n",
    "        vocabulary=unique_movie_titles, mask_token=None),\n",
    "      tf.keras.layers.Embedding(len(unique_movie_titles) + 1, embedding_dimension)\n",
    "    ])\n",
    "\n",
    "    # Compute predictions.\n",
    "    self.ratings = tf.keras.Sequential([\n",
    "      # Learn multiple dense layers.\n",
    "      tf.keras.layers.Dense(256, activation=\"relu\"),\n",
    "      tf.keras.layers.Dense(64, activation=\"relu\"),\n",
    "      # Make rating predictions in the final layer.\n",
    "      tf.keras.layers.Dense(1)\n",
    "  ])\n",
    "\n",
    "  def call(self, userID, originalTitle):\n",
    "\n",
    "    user_embedding = self.user_embeddings(userID)\n",
    "    movie_embedding = self.movie_embeddings(originalTitle)\n",
    "\n",
    "    return self.ratings(tf.concat([user_embedding, movie_embedding], axis=1))"
   ]
  },
  {
   "cell_type": "code",
   "execution_count": 12,
   "metadata": {},
   "outputs": [],
   "source": [
    "class IMDBModel(tfrs.models.Model):\n",
    "\n",
    "  def __init__(self):\n",
    "    super().__init__()\n",
    "    self.ranking_model: tf.keras.Model = RankingModel()\n",
    "    self.task: tf.keras.layers.Layer = tfrs.tasks.Ranking(\n",
    "      loss = tf.keras.losses.MeanSquaredError(),\n",
    "      metrics=[tf.keras.metrics.RootMeanSquaredError()]\n",
    "    )\n",
    "\n",
    "  def call(self, features) -> tf.Tensor:\n",
    "    return self.ranking_model(features[\"userID\"], features[\"originalTitle\"]  )\n",
    "\n",
    "  def compute_loss(self, features, training=False) -> tf.Tensor:\n",
    "    rating_predictions = self.ranking_model(features[\"userID\"], features[\"originalTitle\"]  )\n",
    "\n",
    "    # The task computes the loss and the metrics.\n",
    "    return self.task(labels=features[\"rating\"], predictions=rating_predictions)"
   ]
  },
  {
   "cell_type": "code",
   "execution_count": 13,
   "metadata": {},
   "outputs": [],
   "source": [
    "#fitting the model\n",
    "model = IMDBModel()\n",
    "model.compile(optimizer=tf.keras.optimizers.Adagrad(learning_rate=0.1))"
   ]
  },
  {
   "cell_type": "code",
   "execution_count": 15,
   "metadata": {},
   "outputs": [],
   "source": [
    "# Then shuffle, batch, and cache the training and evaluation data.\n",
    "cached_train = train.shuffle(40000).batch(1000).cache()\n",
    "cached_test = test.batch(200).cache()"
   ]
  },
  {
   "cell_type": "code",
   "execution_count": 16,
   "metadata": {},
   "outputs": [
    {
     "name": "stdout",
     "output_type": "stream",
     "text": [
      "Epoch 1/5\n",
      "\u001b[1m40/40\u001b[0m \u001b[32m━━━━━━━━━━━━━━━━━━━━\u001b[0m\u001b[37m\u001b[0m \u001b[1m2s\u001b[0m 9ms/step - loss: 11.7220 - regularization_loss: 0.0000e+00 - root_mean_squared_error: 4.2721 - total_loss: 11.7220\n",
      "Epoch 2/5\n",
      "\u001b[1m40/40\u001b[0m \u001b[32m━━━━━━━━━━━━━━━━━━━━\u001b[0m\u001b[37m\u001b[0m \u001b[1m0s\u001b[0m 7ms/step - loss: 7.2188 - regularization_loss: 0.0000e+00 - root_mean_squared_error: 2.7642 - total_loss: 7.2188\n",
      "Epoch 3/5\n",
      "\u001b[1m40/40\u001b[0m \u001b[32m━━━━━━━━━━━━━━━━━━━━\u001b[0m\u001b[37m\u001b[0m \u001b[1m0s\u001b[0m 6ms/step - loss: 5.5762 - regularization_loss: 0.0000e+00 - root_mean_squared_error: 2.4526 - total_loss: 5.5762\n",
      "Epoch 4/5\n",
      "\u001b[1m40/40\u001b[0m \u001b[32m━━━━━━━━━━━━━━━━━━━━\u001b[0m\u001b[37m\u001b[0m \u001b[1m0s\u001b[0m 8ms/step - loss: 4.0118 - regularization_loss: 0.0000e+00 - root_mean_squared_error: 2.1011 - total_loss: 4.0118\n",
      "Epoch 5/5\n",
      "\u001b[1m40/40\u001b[0m \u001b[32m━━━━━━━━━━━━━━━━━━━━\u001b[0m\u001b[37m\u001b[0m \u001b[1m0s\u001b[0m 6ms/step - loss: 2.9791 - regularization_loss: 0.0000e+00 - root_mean_squared_error: 1.7669 - total_loss: 2.9791\n"
     ]
    },
    {
     "data": {
      "text/plain": [
       "<keras.src.callbacks.history.History at 0x7fb0229d1460>"
      ]
     },
     "execution_count": 16,
     "metadata": {},
     "output_type": "execute_result"
    }
   ],
   "source": [
    "# To get the full stack trace\n",
    "tf.keras.config.disable_traceback_filtering()\n",
    "# Training the model\n",
    "model.fit(cached_train, epochs=5)"
   ]
  },
  {
   "cell_type": "code",
   "execution_count": 17,
   "metadata": {},
   "outputs": [
    {
     "name": "stdout",
     "output_type": "stream",
     "text": [
      "\u001b[1m50/50\u001b[0m \u001b[32m━━━━━━━━━━━━━━━━━━━━\u001b[0m\u001b[37m\u001b[0m \u001b[1m0s\u001b[0m 2ms/step - loss: 8.4826 - regularization_loss: 0.0000e+00 - root_mean_squared_error: 2.8929 - total_loss: 8.4826\n"
     ]
    },
    {
     "data": {
      "text/plain": [
       "{'loss': 7.197841167449951,\n",
       " 'regularization_loss': 0.0,\n",
       " 'root_mean_squared_error': 2.916900873184204,\n",
       " 'total_loss': 7.197841167449951}"
      ]
     },
     "execution_count": 17,
     "metadata": {},
     "output_type": "execute_result"
    }
   ],
   "source": [
    "# As the model trains, the loss is falling and the RMSE metric is improving.\n",
    "# Finally, we can evaluate our model on the test set:\n",
    "model.evaluate(cached_test, return_dict=True)"
   ]
  },
  {
   "cell_type": "code",
   "execution_count": 18,
   "metadata": {},
   "outputs": [
    {
     "name": "stdout",
     "output_type": "stream",
     "text": [
      "Ratings:\n",
      "When the Light Comes: [[10.786108]]\n",
      "Beetlejuice: [[8.073874]]\n",
      "Batman & Robin: [[4.122521]]\n"
     ]
    }
   ],
   "source": [
    "#Now we can test the ranking model by computing predictions for a set of movies \n",
    "# and then rank these movies based on the predictions:\n",
    "test_ratings = {}\n",
    "test_movie_titles = [\"Batman & Robin\", \"Beetlejuice\", \"When the Light Comes\"]\n",
    "for movie_title in test_movie_titles:\n",
    "  test_ratings[movie_title] = model({\n",
    "      \"userID\": pd.Series([\"ur3174947\"]).to_numpy(),\n",
    "      \"originalTitle\": pd.Series([movie_title]).to_numpy()\n",
    "  })\n",
    "\n",
    "print(\"Ratings:\")\n",
    "for title, score in sorted(test_ratings.items(), key=lambda x: x[1], reverse=True):\n",
    "  print(f\"{title}: {score}\")"
   ]
  },
  {
   "cell_type": "code",
   "execution_count": 19,
   "metadata": {},
   "outputs": [
    {
     "name": "stderr",
     "output_type": "stream",
     "text": [
      "2024-09-07 12:52:19.270915: W tensorflow/core/framework/local_rendezvous.cc:404] Local rendezvous is aborting with status: OUT_OF_RANGE: End of sequence\n"
     ]
    }
   ],
   "source": [
    "user_rand = unique_user_ids[1]\n",
    "test_rating = {}\n",
    "for m in test.take(5):\n",
    "    test_rating[m[\"originalTitle\"].numpy()]=RankingModel()(tf.convert_to_tensor([user_rand]),tf.convert_to_tensor([m[\"originalTitle\"]]))"
   ]
  },
  {
   "cell_type": "code",
   "execution_count": 20,
   "metadata": {},
   "outputs": [
    {
     "name": "stdout",
     "output_type": "stream",
     "text": [
      "Top 5 recommended products for User ur3174947: \n",
      "High Society\n",
      "Looking for Richard\n",
      "American History X\n",
      "Backroads\n",
      "Chasing Liberty\n"
     ]
    }
   ],
   "source": [
    "print(\"Top 5 recommended products for User {}: \".format(user_rand))\n",
    "for m in sorted(test_rating, key=test_rating.get, reverse=True):\n",
    "    print(m.decode())"
   ]
  },
  {
   "cell_type": "code",
   "execution_count": null,
   "metadata": {},
   "outputs": [],
   "source": []
  }
 ],
 "metadata": {
  "kernelspec": {
   "display_name": ".venv",
   "language": "python",
   "name": "python3"
  },
  "language_info": {
   "codemirror_mode": {
    "name": "ipython",
    "version": 3
   },
   "file_extension": ".py",
   "mimetype": "text/x-python",
   "name": "python",
   "nbconvert_exporter": "python",
   "pygments_lexer": "ipython3",
   "version": "3.12.1"
  }
 },
 "nbformat": 4,
 "nbformat_minor": 2
}
