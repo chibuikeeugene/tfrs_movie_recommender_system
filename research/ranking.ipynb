{
 "cells": [
  {
   "cell_type": "markdown",
   "metadata": {},
   "source": [
    "## Objective: Rank relevant candidates based on rating scores"
   ]
  },
  {
   "cell_type": "code",
   "execution_count": 14,
   "metadata": {},
   "outputs": [],
   "source": [
    "import pandas as pd\n",
    "import tensorflow as tf\n",
    "import keras \n",
    "import tensorflow_recommenders as tfrs \n",
    "from typing import Dict, Text\n",
    "import numpy as np"
   ]
  },
  {
   "cell_type": "code",
   "execution_count": 3,
   "metadata": {},
   "outputs": [
    {
     "data": {
      "text/html": [
       "<div>\n",
       "<style scoped>\n",
       "    .dataframe tbody tr th:only-of-type {\n",
       "        vertical-align: middle;\n",
       "    }\n",
       "\n",
       "    .dataframe tbody tr th {\n",
       "        vertical-align: top;\n",
       "    }\n",
       "\n",
       "    .dataframe thead th {\n",
       "        text-align: right;\n",
       "    }\n",
       "</style>\n",
       "<table border=\"1\" class=\"dataframe\">\n",
       "  <thead>\n",
       "    <tr style=\"text-align: right;\">\n",
       "      <th></th>\n",
       "      <th>userID</th>\n",
       "      <th>movieID</th>\n",
       "      <th>originalTitle</th>\n",
       "      <th>rating</th>\n",
       "      <th>review date</th>\n",
       "    </tr>\n",
       "  </thead>\n",
       "  <tbody>\n",
       "    <tr>\n",
       "      <th>0</th>\n",
       "      <td>ur4592644</td>\n",
       "      <td>tt0120884</td>\n",
       "      <td>When the Light Comes</td>\n",
       "      <td>10</td>\n",
       "      <td>16 January 2005</td>\n",
       "    </tr>\n",
       "    <tr>\n",
       "      <th>1</th>\n",
       "      <td>ur3174947</td>\n",
       "      <td>tt0118688</td>\n",
       "      <td>Batman &amp; Robin</td>\n",
       "      <td>3</td>\n",
       "      <td>16 January 2005</td>\n",
       "    </tr>\n",
       "    <tr>\n",
       "      <th>2</th>\n",
       "      <td>ur3780035</td>\n",
       "      <td>tt0387887</td>\n",
       "      <td>Bottom Live 2003: Weapons Grade Y-Fronts Tour</td>\n",
       "      <td>8</td>\n",
       "      <td>16 January 2005</td>\n",
       "    </tr>\n",
       "    <tr>\n",
       "      <th>3</th>\n",
       "      <td>ur4592628</td>\n",
       "      <td>tt0346491</td>\n",
       "      <td>Alexander</td>\n",
       "      <td>1</td>\n",
       "      <td>16 January 2005</td>\n",
       "    </tr>\n",
       "    <tr>\n",
       "      <th>4</th>\n",
       "      <td>ur3174947</td>\n",
       "      <td>tt0094721</td>\n",
       "      <td>Beetlejuice</td>\n",
       "      <td>8</td>\n",
       "      <td>16 January 2005</td>\n",
       "    </tr>\n",
       "  </tbody>\n",
       "</table>\n",
       "</div>"
      ],
      "text/plain": [
       "      userID    movieID                                  originalTitle  \\\n",
       "0  ur4592644  tt0120884                           When the Light Comes   \n",
       "1  ur3174947  tt0118688                                 Batman & Robin   \n",
       "2  ur3780035  tt0387887  Bottom Live 2003: Weapons Grade Y-Fronts Tour   \n",
       "3  ur4592628  tt0346491                                      Alexander   \n",
       "4  ur3174947  tt0094721                                    Beetlejuice   \n",
       "\n",
       "   rating      review date  \n",
       "0      10  16 January 2005  \n",
       "1       3  16 January 2005  \n",
       "2       8  16 January 2005  \n",
       "3       1  16 January 2005  \n",
       "4       8  16 January 2005  "
      ]
     },
     "execution_count": 3,
     "metadata": {},
     "output_type": "execute_result"
    }
   ],
   "source": [
    "# load the data source\n",
    "user_movie_title_rating_data = pd.read_csv(\n",
    "    './sliced_user_id_and_movie_title_data.csv'\n",
    "    )\n",
    "user_movie_title_rating_data.head()"
   ]
  },
  {
   "cell_type": "code",
   "execution_count": 27,
   "metadata": {},
   "outputs": [
    {
     "data": {
      "text/plain": [
       "0                             When the Light Comes\n",
       "1                                   Batman & Robin\n",
       "2    Bottom Live 2003: Weapons Grade Y-Fronts Tour\n",
       "Name: originalTitle, dtype: object"
      ]
     },
     "execution_count": 27,
     "metadata": {},
     "output_type": "execute_result"
    }
   ],
   "source": [
    "user_movie_title_rating_data['originalTitle'][:3]"
   ]
  },
  {
   "cell_type": "code",
   "execution_count": 6,
   "metadata": {},
   "outputs": [
    {
     "data": {
      "text/plain": [
       "0                                 When the Light Comes\n",
       "1                                       Batman & Robin\n",
       "2        Bottom Live 2003: Weapons Grade Y-Fronts Tour\n",
       "3                                            Alexander\n",
       "4                                          Beetlejuice\n",
       "                             ...                      \n",
       "49995               The Five People You Meet in Heaven\n",
       "49996                                         Sin City\n",
       "49997                                         Earthsea\n",
       "49998                                           L√©olo\n",
       "49999                                           Sahara\n",
       "Name: originalTitle, Length: 50000, dtype: object"
      ]
     },
     "execution_count": 6,
     "metadata": {},
     "output_type": "execute_result"
    }
   ],
   "source": [
    "# create a new movie title list that enforces type uniformity in its values\n",
    "# might come in handy when creaying the movie title vocalbulary\n",
    "updated_movie_titles = []\n",
    "for i in user_movie_title_rating_data['originalTitle']:\n",
    "    if type(i) != 'str':\n",
    "        a = str(i)\n",
    "        updated_movie_titles.append(a)\n",
    "    else:\n",
    "        updated_movie_titles.append(i)\n",
    "\n",
    "user_movie_title_rating_data['originalTitle'] = updated_movie_titles\n",
    "user_movie_title_rating_data['originalTitle']"
   ]
  },
  {
   "cell_type": "code",
   "execution_count": 7,
   "metadata": {},
   "outputs": [],
   "source": [
    "# convert the dataframe to a tensor dataset\n",
    "user_movie_title_rating_data_tensor = tf.data.Dataset.from_tensor_slices(user_movie_title_rating_data.to_dict(orient='list'))"
   ]
  },
  {
   "cell_type": "code",
   "execution_count": 8,
   "metadata": {},
   "outputs": [],
   "source": [
    "# accessing just the needed features and creating a tensor dataset dict\n",
    "user_id_title_rating_tf_data = user_movie_title_rating_data_tensor.map(lambda x: \n",
    "                                                                       {\n",
    "                                                                           'userID': x['userID'],\n",
    "                                                                           'originalTitle': x['originalTitle'],\n",
    "                                                                           'rating': x['rating']\n",
    "                                                                       })"
   ]
  },
  {
   "cell_type": "code",
   "execution_count": 9,
   "metadata": {},
   "outputs": [],
   "source": [
    "# splitting the data into train, test and val\n",
    "tf.random.set_seed(20)\n",
    "\n",
    "shuffled = user_id_title_rating_tf_data.shuffle(50000, seed=20, reshuffle_each_iteration=False)\n",
    "\n",
    "train = shuffled.take(30000)\n",
    "test =  shuffled.skip(30000).take(10000)\n",
    "val =  shuffled.skip(40000).take(10000)"
   ]
  },
  {
   "cell_type": "code",
   "execution_count": 13,
   "metadata": {},
   "outputs": [],
   "source": [
    "# getting unique user ids and movie titles\n",
    "user_ids = user_id_title_rating_tf_data.batch(1000).map(lambda x: x['userID'])\n",
    "movie_titles =  user_id_title_rating_tf_data.batch(1000).map(lambda x: x['originalTitle'])\n",
    "\n",
    "unique_user_ids = np.unique(np.concatenate(list(user_ids)))\n",
    "unique_movie_titles = np.unique(np.concatenate(list(movie_titles)))"
   ]
  },
  {
   "cell_type": "code",
   "execution_count": null,
   "metadata": {},
   "outputs": [],
   "source": [
    "# Building the ranking model from keras base model\n",
    "\n",
    "class RankingModel(tf.keras.Model):\n",
    "    def __init__(self):\n",
    "        super().__init__() # calling the superclass init method to initialize all attributes and functions\n",
    "        embedding_dimension =  32\n",
    "\n",
    "        # creating the user embeddings\n",
    "        self.user_embedding = tf.keras.Sequential([\n",
    "            tf.keras.layers.StringLookup(max_tokens=None, vocabulary= unique_user_ids),\n",
    "            tf.keras.layers.Embedding(len(unique_user_ids) + 1, embedding_dimension )\n",
    "        ])\n",
    "\n",
    "        # creating the movie embeddings\n",
    "        self.movie_embedding = tf.keras.Sequential([\n",
    "            tf.keras.layers.StringLookup(max_tokens=None, vocabulary= unique_movie_titles),\n",
    "            tf.keras.layers.Embedding(len(unique_movie_titles) + 1, embedding_dimension )\n",
    "        ])\n",
    "\n",
    "        # to compute predictions\n",
    "        self.rating = tf.keras.Sequential([\n",
    "            # Learn multiple dense layers.\n",
    "            tf.keras.layers.Dense(256, activation=\"relu\"),\n",
    "            tf.keras.layers.Dense(64, activation=\"relu\"),\n",
    "            # Make rating predictions in the final layer.\n",
    "            tf.keras.layers.Dense(1)\n",
    "        ])\n",
    "\n",
    "    def call(self, inputs):\n",
    "        user_id, movie_title =  inputs\n",
    "\n",
    "        # create the embeddings \n",
    "        user_embeddings = self.user_embedding(user_id)\n",
    "        movie_embeddings = self.movie_embedding(movie_title)\n",
    "\n",
    "        return self.rating(tf.concat([user_embeddings, movie_embeddings], axis=1))\n",
    "\n"
   ]
  },
  {
   "cell_type": "code",
   "execution_count": null,
   "metadata": {},
   "outputs": [
    {
     "data": {
      "text/plain": [
       "<tf.Tensor: shape=(1, 1), dtype=float32, numpy=array([[-0.00846763]], dtype=float32)>"
      ]
     },
     "execution_count": 19,
     "metadata": {},
     "output_type": "execute_result"
    }
   ],
   "source": [
    "# testing our model to see if it generates a rating value\n",
    "RankingModel()((['ur4592644'], ['When the Light Comes']))"
   ]
  },
  {
   "cell_type": "code",
   "execution_count": 20,
   "metadata": {},
   "outputs": [
    {
     "data": {
      "text/plain": [
       "<tensorflow_recommenders.tasks.ranking.Ranking at 0x1485bc4f0>"
      ]
     },
     "execution_count": 20,
     "metadata": {},
     "output_type": "execute_result"
    }
   ],
   "source": [
    "# defining our loss and metrics\n",
    "tfrs.tasks.Ranking(\n",
    "    loss = tf.keras.losses.MeanSquaredError(),\n",
    "    metrics=[tf.keras.metrics.RootMeanSquaredError()]\n",
    ")"
   ]
  },
  {
   "cell_type": "markdown",
   "metadata": {},
   "source": [
    "##  Complete Model Architecture with loss function and metrics"
   ]
  },
  {
   "cell_type": "code",
   "execution_count": 21,
   "metadata": {},
   "outputs": [],
   "source": [
    "class MovieModel(tfrs.models.Model):\n",
    "    def __init__(self):\n",
    "        # call the super class init method\n",
    "        super().__init__()\n",
    "        self.ranking: tf.keras.Model = RankingModel()\n",
    "        self.task: tf.keras.layers.Layer =  tfrs.tasks.Ranking(\n",
    "                            loss = tf.keras.losses.MeanSquaredError(),\n",
    "                            metrics=[tf.keras.metrics.RootMeanSquaredError()]\n",
    "                        )\n",
    "        \n",
    "    def call(self, inputs: dict[str, tf.Tensor]):\n",
    "        return self.ranking((inputs['userID'], inputs['originalTitle']))\n",
    "    \n",
    "        \n",
    "    def compute_loss(self, inputs: dict[Text, tf.Tensor], training = False):\n",
    "        true_labels = inputs.pop('rating')\n",
    "        predicted_labels =  self.call(inputs=inputs)\n",
    "\n",
    "        # computing the loss and the metrics\n",
    "        return self.task(labels = true_labels, predictions = predicted_labels)"
   ]
  },
  {
   "cell_type": "code",
   "execution_count": 23,
   "metadata": {},
   "outputs": [],
   "source": [
    "# instantiate and compile model\n",
    "model =  MovieModel()\n",
    "model.compile(optimizer=tf.keras.optimizers.legacy.Adagrad(learning_rate=0.1))"
   ]
  },
  {
   "cell_type": "code",
   "execution_count": 24,
   "metadata": {},
   "outputs": [],
   "source": [
    "# creating a cached version of our train, test and val data\n",
    "cached_train = train.batch(1000).cache()\n",
    "cached_test =  test.batch(500).cache()\n",
    "cached_val =  val.batch(500).cache()"
   ]
  },
  {
   "cell_type": "code",
   "execution_count": null,
   "metadata": {},
   "outputs": [
    {
     "name": "stdout",
     "output_type": "stream",
     "text": [
      "Epoch 1/5\n",
      "30/30 [==============================] - 1s 12ms/step - root_mean_squared_error: 3.6788 - loss: 13.3710 - regularization_loss: 0.0000e+00 - total_loss: 13.3710 - val_root_mean_squared_error: 2.8310 - val_loss: 8.8421 - val_regularization_loss: 0.0000e+00 - val_total_loss: 8.8421\n",
      "Epoch 2/5\n",
      "30/30 [==============================] - 0s 2ms/step - root_mean_squared_error: 2.7260 - loss: 7.4266 - regularization_loss: 0.0000e+00 - total_loss: 7.4266 - val_root_mean_squared_error: 2.7508 - val_loss: 8.3222 - val_regularization_loss: 0.0000e+00 - val_total_loss: 8.3222\n",
      "Epoch 3/5\n",
      "30/30 [==============================] - 0s 2ms/step - root_mean_squared_error: 2.3948 - loss: 5.7286 - regularization_loss: 0.0000e+00 - total_loss: 5.7286 - val_root_mean_squared_error: 2.8749 - val_loss: 8.7559 - val_regularization_loss: 0.0000e+00 - val_total_loss: 8.7559\n",
      "Epoch 4/5\n",
      "30/30 [==============================] - 0s 3ms/step - root_mean_squared_error: 2.0085 - loss: 3.9960 - regularization_loss: 0.0000e+00 - total_loss: 3.9960 - val_root_mean_squared_error: 2.9980 - val_loss: 9.8284 - val_regularization_loss: 0.0000e+00 - val_total_loss: 9.8284\n",
      "Epoch 5/5\n",
      "30/30 [==============================] - 0s 2ms/step - root_mean_squared_error: 1.7812 - loss: 3.1366 - regularization_loss: 0.0000e+00 - total_loss: 3.1366 - val_root_mean_squared_error: 2.9757 - val_loss: 9.6303 - val_regularization_loss: 0.0000e+00 - val_total_loss: 9.6303\n"
     ]
    },
    {
     "data": {
      "text/plain": [
       "<keras.src.callbacks.History at 0x1485a96d0>"
      ]
     },
     "execution_count": 25,
     "metadata": {},
     "output_type": "execute_result"
    }
   ],
   "source": [
    "# training the model\n",
    "model.fit(cached_train, validation_data=cached_val, epochs=5)"
   ]
  },
  {
   "cell_type": "code",
   "execution_count": 26,
   "metadata": {},
   "outputs": [
    {
     "name": "stdout",
     "output_type": "stream",
     "text": [
      "20/20 [==============================] - 0s 826us/step - root_mean_squared_error: 2.9420 - loss: 8.6690 - regularization_loss: 0.0000e+00 - total_loss: 8.6690\n"
     ]
    },
    {
     "data": {
      "text/plain": [
       "{'root_mean_squared_error': 2.942007541656494,\n",
       " 'loss': 8.940866470336914,\n",
       " 'regularization_loss': 0,\n",
       " 'total_loss': 8.940866470336914}"
      ]
     },
     "execution_count": 26,
     "metadata": {},
     "output_type": "execute_result"
    }
   ],
   "source": [
    "# evaluating our model\n",
    "model.evaluate(cached_test, return_dict=True)"
   ]
  },
  {
   "cell_type": "markdown",
   "metadata": {},
   "source": [
    "### NB:A lower rmse indicates a better accuracy at predicting ratings"
   ]
  },
  {
   "cell_type": "code",
   "execution_count": 30,
   "metadata": {},
   "outputs": [
    {
     "name": "stdout",
     "output_type": "stream",
     "text": [
      "ratings:\n",
      "Bottom Live 2003: Weapons Grade Y-Fronts Tour: [[6.107675]]\n",
      "When the Light Comes: [[5.6205826]]\n",
      "Batman & Robin: [[2.104976]]\n"
     ]
    }
   ],
   "source": [
    "# Testing our model on a set of movies and then ranking the movies based on the predictions\n",
    "\n",
    "test_ratings = {}\n",
    "test_movie_titles =['When the Light Comes', 'Batman & Robin', 'Bottom Live 2003: Weapons Grade Y-Fronts Tour']\n",
    "\n",
    "for movies in test_movie_titles:\n",
    "    test_ratings[movies] =  model({\n",
    "        'userID': np.array(['ur4592644']),\n",
    "        'originalTitle': np.array([movies])\n",
    "    })\n",
    "\n",
    "print('ratings:')\n",
    "for movie_title, score in sorted(test_ratings.items(), key= lambda x : x[1], reverse=True):\n",
    "    print(f'{movie_title}: {score}')\n",
    "\n"
   ]
  },
  {
   "cell_type": "code",
   "execution_count": 38,
   "metadata": {},
   "outputs": [
    {
     "name": "stdout",
     "output_type": "stream",
     "text": [
      "<__main__.RankingModel object at 0x1485b8820>\n",
      "<tensorflow_recommenders.tasks.ranking.Ranking object at 0x1485a22b0>\n"
     ]
    }
   ],
   "source": [
    "# exporting our mode\n",
    "for layer in model.layers:\n",
    "    print(layer)"
   ]
  },
  {
   "cell_type": "code",
   "execution_count": 44,
   "metadata": {},
   "outputs": [
    {
     "name": "stdout",
     "output_type": "stream",
     "text": [
      "Epoch 1/5\n",
      "24/30 [=======================>......] - ETA: 0s - root_mean_squared_error: 0.9651 - loss: 0.9314 - regularization_loss: 0.0000e+00 - total_loss: 0.9314INFO:tensorflow:Assets written to: ./ranking_model/assets\n"
     ]
    },
    {
     "name": "stderr",
     "output_type": "stream",
     "text": [
      "INFO:tensorflow:Assets written to: ./ranking_model/assets\n"
     ]
    },
    {
     "name": "stdout",
     "output_type": "stream",
     "text": [
      "30/30 [==============================] - 1s 24ms/step - root_mean_squared_error: 0.9618 - loss: 0.9227 - regularization_loss: 0.0000e+00 - total_loss: 0.9227 - val_root_mean_squared_error: 3.0333 - val_loss: 9.7272 - val_regularization_loss: 0.0000e+00 - val_total_loss: 9.7272\n",
      "Epoch 2/5\n",
      "30/30 [==============================] - 0s 3ms/step - root_mean_squared_error: 0.9523 - loss: 0.9046 - regularization_loss: 0.0000e+00 - total_loss: 0.9046 - val_root_mean_squared_error: 3.0358 - val_loss: 9.7389 - val_regularization_loss: 0.0000e+00 - val_total_loss: 9.7389\n",
      "Epoch 3/5\n",
      "30/30 [==============================] - 0s 3ms/step - root_mean_squared_error: 0.9432 - loss: 0.8875 - regularization_loss: 0.0000e+00 - total_loss: 0.8875 - val_root_mean_squared_error: 3.0388 - val_loss: 9.7526 - val_regularization_loss: 0.0000e+00 - val_total_loss: 9.7526\n",
      "Epoch 4/5\n",
      "30/30 [==============================] - 0s 3ms/step - root_mean_squared_error: 0.9352 - loss: 0.8726 - regularization_loss: 0.0000e+00 - total_loss: 0.8726 - val_root_mean_squared_error: 3.0402 - val_loss: 9.7526 - val_regularization_loss: 0.0000e+00 - val_total_loss: 9.7526\n",
      "Epoch 5/5\n",
      "30/30 [==============================] - 0s 3ms/step - root_mean_squared_error: 0.9279 - loss: 0.8591 - regularization_loss: 0.0000e+00 - total_loss: 0.8591 - val_root_mean_squared_error: 3.0422 - val_loss: 9.7599 - val_regularization_loss: 0.0000e+00 - val_total_loss: 9.7599\n"
     ]
    },
    {
     "data": {
      "text/plain": [
       "<keras.src.callbacks.History at 0x1481e77f0>"
      ]
     },
     "execution_count": 44,
     "metadata": {},
     "output_type": "execute_result"
    }
   ],
   "source": [
    "# using model checkpointing as an alternative to model saving\n",
    "checkpoint = tf.keras.callbacks.ModelCheckpoint('./ranking_model', save_best_only=True)\n",
    "model.fit(cached_train, epochs=5, validation_data=cached_val, callbacks=[checkpoint])"
   ]
  },
  {
   "cell_type": "code",
   "execution_count": 45,
   "metadata": {},
   "outputs": [],
   "source": [
    "loaded_model =  tf.keras.models.load_model('./ranking_model')"
   ]
  },
  {
   "cell_type": "code",
   "execution_count": 46,
   "metadata": {},
   "outputs": [
    {
     "name": "stdout",
     "output_type": "stream",
     "text": [
      "ratings:\n",
      "Bottom Live 2003: Weapons Grade Y-Fronts Tour: [[5.550411]]\n",
      "When the Light Comes: [[5.1831145]]\n",
      "Batman & Robin: [[1.3363197]]\n"
     ]
    }
   ],
   "source": [
    "# Testing our model on a set of movies and then ranking the movies based on the predictions\n",
    "\n",
    "test_ratingss = {}\n",
    "test_movie_titles =['When the Light Comes', 'Batman & Robin', 'Bottom Live 2003: Weapons Grade Y-Fronts Tour']\n",
    "\n",
    "for movies in test_movie_titles:\n",
    "    test_ratingss[movies] =  loaded_model({\n",
    "        'userID': np.array(['ur4592644']),\n",
    "        'originalTitle': np.array([movies])\n",
    "    })\n",
    "\n",
    "print('ratings:')\n",
    "for movie_title, score in sorted(test_ratingss.items(), key= lambda x : x[1], reverse=True):\n",
    "    print(f'{movie_title}: {score}')"
   ]
  },
  {
   "cell_type": "code",
   "execution_count": 49,
   "metadata": {},
   "outputs": [
    {
     "name": "stderr",
     "output_type": "stream",
     "text": [
      "2025-03-27 17:54:55.909142: W tensorflow/compiler/mlir/lite/python/tf_tfl_flatbuffer_helpers.cc:378] Ignored output_format.\n",
      "2025-03-27 17:54:55.909318: W tensorflow/compiler/mlir/lite/python/tf_tfl_flatbuffer_helpers.cc:381] Ignored drop_control_dependency.\n",
      "2025-03-27 17:54:55.912112: I tensorflow/cc/saved_model/reader.cc:83] Reading SavedModel from: ./ranking_model\n",
      "2025-03-27 17:54:55.914910: I tensorflow/cc/saved_model/reader.cc:51] Reading meta graph with tags { serve }\n",
      "2025-03-27 17:54:55.914914: I tensorflow/cc/saved_model/reader.cc:146] Reading SavedModel debug info (if present) from: ./ranking_model\n",
      "2025-03-27 17:54:55.921444: I tensorflow/compiler/mlir/mlir_graph_optimization_pass.cc:388] MLIR V1 optimization pass is not enabled\n",
      "2025-03-27 17:54:55.922396: I tensorflow/cc/saved_model/loader.cc:233] Restoring SavedModel bundle.\n",
      "2025-03-27 17:54:55.965601: I tensorflow/cc/saved_model/loader.cc:217] Running initialization op on SavedModel bundle at path: ./ranking_model\n",
      "2025-03-27 17:54:56.128119: I tensorflow/cc/saved_model/loader.cc:316] SavedModel load for tags { serve }; Status: success: OK. Took 216009 microseconds.\n",
      "2025-03-27 17:54:56.160647: I tensorflow/compiler/mlir/tensorflow/utils/dump_mlir_util.cc:269] disabling MLIR crash reproducer, set env var `MLIR_CRASH_REPRODUCER_DIRECTORY` to enable.\n",
      "2025-03-27 17:54:56.221251: E tensorflow/compiler/mlir/lite/stablehlo/transforms/op_stat_pass.cc:119] Unsupported data type.\n",
      "2025-03-27 17:54:56.221260: E tensorflow/compiler/mlir/lite/stablehlo/transforms/op_stat_pass.cc:119] Unsupported data type.\n",
      "2025-03-27 17:54:56.221262: E tensorflow/compiler/mlir/lite/stablehlo/transforms/op_stat_pass.cc:119] Unsupported data type.\n",
      "2025-03-27 17:54:56.221264: E tensorflow/compiler/mlir/lite/stablehlo/transforms/op_stat_pass.cc:119] Unsupported data type.\n",
      "2025-03-27 17:54:56.221267: E tensorflow/compiler/mlir/lite/stablehlo/transforms/op_stat_pass.cc:119] Unsupported data type.\n",
      "2025-03-27 17:54:56.221269: E tensorflow/compiler/mlir/lite/stablehlo/transforms/op_stat_pass.cc:119] Unsupported data type.\n",
      "Summary on the non-converted ops:\n",
      "---------------------------------\n",
      " * Accepted dialects: tfl, builtin, func\n",
      " * Non-Converted Ops: 14, Total Ops 34, % non-converted = 41.18 %\n",
      " * 13 ARITH ops, 1 TF_SAVED_MODEL ops\n",
      "\n",
      "- arith.constant:   13 occurrences  (: 2, i64: 3, f32: 8)\n",
      "\n",
      "\n",
      "\n",
      "- tf_saved_model.session_initializer:    1 occurrences\n",
      "\n",
      "  (f32: 1)\n",
      "  (f32: 3)\n",
      "  (f32: 2)\n",
      "  (: 4)\n",
      "  (i64: 2)\n",
      "\n"
     ]
    },
    {
     "data": {
      "text/plain": [
       "6917052"
      ]
     },
     "execution_count": 49,
     "metadata": {},
     "output_type": "execute_result"
    }
   ],
   "source": [
    "converter = tf.lite.TFLiteConverter.from_saved_model('./ranking_model')\n",
    "tf_lite_model = converter.convert()\n",
    "open('converted_model.tflite', 'wb').write(tf_lite_model)"
   ]
  },
  {
   "cell_type": "code",
   "execution_count": null,
   "metadata": {},
   "outputs": [],
   "source": []
  }
 ],
 "metadata": {
  "kernelspec": {
   "display_name": "tf_recommender",
   "language": "python",
   "name": "python3"
  },
  "language_info": {
   "codemirror_mode": {
    "name": "ipython",
    "version": 3
   },
   "file_extension": ".py",
   "mimetype": "text/x-python",
   "name": "python",
   "nbconvert_exporter": "python",
   "pygments_lexer": "ipython3",
   "version": "3.9.21"
  }
 },
 "nbformat": 4,
 "nbformat_minor": 2
}
