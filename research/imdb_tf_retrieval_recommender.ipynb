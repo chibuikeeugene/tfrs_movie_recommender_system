{
 "cells": [
  {
   "cell_type": "code",
   "execution_count": 1,
   "metadata": {},
   "outputs": [
    {
     "name": "stderr",
     "output_type": "stream",
     "text": [
      "2024-10-25 02:48:44.566502: I tensorflow/core/platform/cpu_feature_guard.cc:182] This TensorFlow binary is optimized to use available CPU instructions in performance-critical operations.\n",
      "To enable the following instructions: AVX2 FMA, in other operations, rebuild TensorFlow with the appropriate compiler flags.\n"
     ]
    }
   ],
   "source": [
    "import pandas as pd\n",
    "import numpy as np\n",
    "import tensorflow as tf\n",
    "import tensorflow_recommenders as tfrs \n",
    "# from typing import Dict, List, Text, Union, Any\n",
    "import warnings\n",
    "warnings.filterwarnings(\"ignore\")"
   ]
  },
  {
   "cell_type": "code",
   "execution_count": 2,
   "metadata": {},
   "outputs": [],
   "source": [
    "# loading the data sources\n",
    "user_movie_title_rating_data = pd.read_csv('sliced_user_id_and_movie_title_data.csv')\n",
    "# loading the data sources\n",
    "# user_rating_data = pd.read_csv('/Users/eugene/Personal_Projects/Real_ML_Project/imdb_dataset/title.user-rating.csv')\n",
    "# movie_data = pd.read_csv('/Users/eugene/Personal_Projects/Real_ML_Project/imdb_dataset/title.basics.csv')\n",
    "# average_rating_data =  pd.read_csv('/Users/eugene/Personal_Projects/Real_ML_Project/imdb_dataset/title.ratings.csv')\n",
    "# basics_data = pd.read_csv('/Users/eugene/Personal_Projects/Real_ML_Project/imdb_dataset/name.basics.csv')\n",
    "# principals_data = pd.read_csv('/Users/eugene/Personal_Projects/Real_ML_Project/imdb_dataset/title.principals.csv')"
   ]
  },
  {
   "cell_type": "code",
   "execution_count": null,
   "metadata": {},
   "outputs": [],
   "source": [
    "# # rename the tconst to movieID\n",
    "# movie_data.rename(columns={'tconst': 'movieID'}, inplace=True)\n",
    "# movie_data.head()"
   ]
  },
  {
   "cell_type": "code",
   "execution_count": null,
   "metadata": {},
   "outputs": [],
   "source": [
    "# # performing a merge operation to expand the user rating data with movie titles\n",
    "# user_rating_data_with_movies_title = user_rating_data.merge(movie_data, how='left', on='movieID')\n",
    "# user_rating_data_with_movies_title = user_rating_data_with_movies_title[['userID', 'movieID','originalTitle', 'rating', 'review date']]\n",
    "# user_rating_data_with_movies_title.head()"
   ]
  },
  {
   "cell_type": "code",
   "execution_count": null,
   "metadata": {},
   "outputs": [],
   "source": [
    "# # experimental step of extracting just a slice of our data for testing purposes\n",
    "# sliced_user_id_and_movie_title_data = user_rating_data_with_movies_title[0:50000]\n",
    "# print(sliced_user_id_and_movie_title_data.size, sliced_user_id_and_movie_title_data.shape)"
   ]
  },
  {
   "cell_type": "code",
   "execution_count": 3,
   "metadata": {},
   "outputs": [
    {
     "name": "stdout",
     "output_type": "stream",
     "text": [
      "<class 'pandas.core.frame.DataFrame'>\n",
      "RangeIndex: 50000 entries, 0 to 49999\n",
      "Data columns (total 5 columns):\n",
      " #   Column         Non-Null Count  Dtype \n",
      "---  ------         --------------  ----- \n",
      " 0   userID         50000 non-null  object\n",
      " 1   movieID        50000 non-null  object\n",
      " 2   originalTitle  49996 non-null  object\n",
      " 3   rating         50000 non-null  int64 \n",
      " 4   review date    50000 non-null  object\n",
      "dtypes: int64(1), object(4)\n",
      "memory usage: 1.9+ MB\n"
     ]
    }
   ],
   "source": [
    "user_movie_title_rating_data.info()"
   ]
  },
  {
   "cell_type": "code",
   "execution_count": 4,
   "metadata": {},
   "outputs": [],
   "source": [
    "# create a new movie title list that enforces type uniformity in its values\n",
    "# this step came up because of type inconsitency when creating movie title vocabulary\n",
    "updated_movie_titles = []\n",
    "for i in user_movie_title_rating_data['originalTitle']:\n",
    "    if type(i) != 'str':\n",
    "        a = str(i)\n",
    "        updated_movie_titles.append(a)\n",
    "    else:\n",
    "        updated_movie_titles.append(i)"
   ]
  },
  {
   "cell_type": "code",
   "execution_count": 5,
   "metadata": {},
   "outputs": [
    {
     "data": {
      "text/plain": [
       "0                                 When the Light Comes\n",
       "1                                       Batman & Robin\n",
       "2        Bottom Live 2003: Weapons Grade Y-Fronts Tour\n",
       "3                                            Alexander\n",
       "4                                          Beetlejuice\n",
       "                             ...                      \n",
       "49995               The Five People You Meet in Heaven\n",
       "49996                                         Sin City\n",
       "49997                                         Earthsea\n",
       "49998                                           L√©olo\n",
       "49999                                           Sahara\n",
       "Name: originalTitle, Length: 50000, dtype: object"
      ]
     },
     "execution_count": 5,
     "metadata": {},
     "output_type": "execute_result"
    }
   ],
   "source": [
    "user_movie_title_rating_data['originalTitle'] = updated_movie_titles\n",
    "user_movie_title_rating_data['originalTitle']"
   ]
  },
  {
   "cell_type": "code",
   "execution_count": 6,
   "metadata": {},
   "outputs": [
    {
     "data": {
      "text/html": [
       "<div>\n",
       "<style scoped>\n",
       "    .dataframe tbody tr th:only-of-type {\n",
       "        vertical-align: middle;\n",
       "    }\n",
       "\n",
       "    .dataframe tbody tr th {\n",
       "        vertical-align: top;\n",
       "    }\n",
       "\n",
       "    .dataframe thead th {\n",
       "        text-align: right;\n",
       "    }\n",
       "</style>\n",
       "<table border=\"1\" class=\"dataframe\">\n",
       "  <thead>\n",
       "    <tr style=\"text-align: right;\">\n",
       "      <th></th>\n",
       "      <th>userID</th>\n",
       "      <th>movieID</th>\n",
       "      <th>originalTitle</th>\n",
       "      <th>rating</th>\n",
       "      <th>review date</th>\n",
       "    </tr>\n",
       "  </thead>\n",
       "  <tbody>\n",
       "    <tr>\n",
       "      <th>0</th>\n",
       "      <td>ur4592644</td>\n",
       "      <td>tt0120884</td>\n",
       "      <td>When the Light Comes</td>\n",
       "      <td>10</td>\n",
       "      <td>16 January 2005</td>\n",
       "    </tr>\n",
       "    <tr>\n",
       "      <th>1</th>\n",
       "      <td>ur3174947</td>\n",
       "      <td>tt0118688</td>\n",
       "      <td>Batman &amp; Robin</td>\n",
       "      <td>3</td>\n",
       "      <td>16 January 2005</td>\n",
       "    </tr>\n",
       "    <tr>\n",
       "      <th>2</th>\n",
       "      <td>ur3780035</td>\n",
       "      <td>tt0387887</td>\n",
       "      <td>Bottom Live 2003: Weapons Grade Y-Fronts Tour</td>\n",
       "      <td>8</td>\n",
       "      <td>16 January 2005</td>\n",
       "    </tr>\n",
       "    <tr>\n",
       "      <th>3</th>\n",
       "      <td>ur4592628</td>\n",
       "      <td>tt0346491</td>\n",
       "      <td>Alexander</td>\n",
       "      <td>1</td>\n",
       "      <td>16 January 2005</td>\n",
       "    </tr>\n",
       "    <tr>\n",
       "      <th>4</th>\n",
       "      <td>ur3174947</td>\n",
       "      <td>tt0094721</td>\n",
       "      <td>Beetlejuice</td>\n",
       "      <td>8</td>\n",
       "      <td>16 January 2005</td>\n",
       "    </tr>\n",
       "  </tbody>\n",
       "</table>\n",
       "</div>"
      ],
      "text/plain": [
       "      userID    movieID                                  originalTitle  \\\n",
       "0  ur4592644  tt0120884                           When the Light Comes   \n",
       "1  ur3174947  tt0118688                                 Batman & Robin   \n",
       "2  ur3780035  tt0387887  Bottom Live 2003: Weapons Grade Y-Fronts Tour   \n",
       "3  ur4592628  tt0346491                                      Alexander   \n",
       "4  ur3174947  tt0094721                                    Beetlejuice   \n",
       "\n",
       "   rating      review date  \n",
       "0      10  16 January 2005  \n",
       "1       3  16 January 2005  \n",
       "2       8  16 January 2005  \n",
       "3       1  16 January 2005  \n",
       "4       8  16 January 2005  "
      ]
     },
     "execution_count": 6,
     "metadata": {},
     "output_type": "execute_result"
    }
   ],
   "source": [
    "user_movie_title_rating_data.head()"
   ]
  },
  {
   "cell_type": "code",
   "execution_count": 7,
   "metadata": {},
   "outputs": [
    {
     "data": {
      "text/html": [
       "<div>\n",
       "<style scoped>\n",
       "    .dataframe tbody tr th:only-of-type {\n",
       "        vertical-align: middle;\n",
       "    }\n",
       "\n",
       "    .dataframe tbody tr th {\n",
       "        vertical-align: top;\n",
       "    }\n",
       "\n",
       "    .dataframe thead th {\n",
       "        text-align: right;\n",
       "    }\n",
       "</style>\n",
       "<table border=\"1\" class=\"dataframe\">\n",
       "  <thead>\n",
       "    <tr style=\"text-align: right;\">\n",
       "      <th></th>\n",
       "      <th>userID</th>\n",
       "      <th>movieID</th>\n",
       "      <th>originalTitle</th>\n",
       "      <th>rating</th>\n",
       "      <th>review date</th>\n",
       "    </tr>\n",
       "  </thead>\n",
       "  <tbody>\n",
       "    <tr>\n",
       "      <th>8602</th>\n",
       "      <td>ur1284280</td>\n",
       "      <td>tt0360486</td>\n",
       "      <td>Constantine</td>\n",
       "      <td>8</td>\n",
       "      <td>1 February 2005</td>\n",
       "    </tr>\n",
       "    <tr>\n",
       "      <th>8941</th>\n",
       "      <td>ur3353587</td>\n",
       "      <td>tt0360486</td>\n",
       "      <td>Constantine</td>\n",
       "      <td>4</td>\n",
       "      <td>1 February 2005</td>\n",
       "    </tr>\n",
       "    <tr>\n",
       "      <th>8943</th>\n",
       "      <td>ur2789953</td>\n",
       "      <td>tt0360486</td>\n",
       "      <td>Constantine</td>\n",
       "      <td>3</td>\n",
       "      <td>1 February 2005</td>\n",
       "    </tr>\n",
       "    <tr>\n",
       "      <th>8944</th>\n",
       "      <td>ur4652689</td>\n",
       "      <td>tt0360486</td>\n",
       "      <td>Constantine</td>\n",
       "      <td>3</td>\n",
       "      <td>1 February 2005</td>\n",
       "    </tr>\n",
       "    <tr>\n",
       "      <th>11398</th>\n",
       "      <td>ur2384861</td>\n",
       "      <td>tt0360486</td>\n",
       "      <td>Constantine</td>\n",
       "      <td>8</td>\n",
       "      <td>5 February 2005</td>\n",
       "    </tr>\n",
       "    <tr>\n",
       "      <th>...</th>\n",
       "      <td>...</td>\n",
       "      <td>...</td>\n",
       "      <td>...</td>\n",
       "      <td>...</td>\n",
       "      <td>...</td>\n",
       "    </tr>\n",
       "    <tr>\n",
       "      <th>48366</th>\n",
       "      <td>ur1003768</td>\n",
       "      <td>tt0360486</td>\n",
       "      <td>Constantine</td>\n",
       "      <td>9</td>\n",
       "      <td>24 April 2005</td>\n",
       "    </tr>\n",
       "    <tr>\n",
       "      <th>48669</th>\n",
       "      <td>ur4884256</td>\n",
       "      <td>tt0360486</td>\n",
       "      <td>Constantine</td>\n",
       "      <td>8</td>\n",
       "      <td>25 April 2005</td>\n",
       "    </tr>\n",
       "    <tr>\n",
       "      <th>49318</th>\n",
       "      <td>ur3145988</td>\n",
       "      <td>tt0360486</td>\n",
       "      <td>Constantine</td>\n",
       "      <td>6</td>\n",
       "      <td>26 April 2005</td>\n",
       "    </tr>\n",
       "    <tr>\n",
       "      <th>49383</th>\n",
       "      <td>ur5211021</td>\n",
       "      <td>tt0360486</td>\n",
       "      <td>Constantine</td>\n",
       "      <td>2</td>\n",
       "      <td>27 April 2005</td>\n",
       "    </tr>\n",
       "    <tr>\n",
       "      <th>49422</th>\n",
       "      <td>ur3415722</td>\n",
       "      <td>tt0360486</td>\n",
       "      <td>Constantine</td>\n",
       "      <td>7</td>\n",
       "      <td>27 April 2005</td>\n",
       "    </tr>\n",
       "  </tbody>\n",
       "</table>\n",
       "<p>499 rows × 5 columns</p>\n",
       "</div>"
      ],
      "text/plain": [
       "          userID    movieID originalTitle  rating      review date\n",
       "8602   ur1284280  tt0360486   Constantine       8  1 February 2005\n",
       "8941   ur3353587  tt0360486   Constantine       4  1 February 2005\n",
       "8943   ur2789953  tt0360486   Constantine       3  1 February 2005\n",
       "8944   ur4652689  tt0360486   Constantine       3  1 February 2005\n",
       "11398  ur2384861  tt0360486   Constantine       8  5 February 2005\n",
       "...          ...        ...           ...     ...              ...\n",
       "48366  ur1003768  tt0360486   Constantine       9    24 April 2005\n",
       "48669  ur4884256  tt0360486   Constantine       8    25 April 2005\n",
       "49318  ur3145988  tt0360486   Constantine       6    26 April 2005\n",
       "49383  ur5211021  tt0360486   Constantine       2    27 April 2005\n",
       "49422  ur3415722  tt0360486   Constantine       7    27 April 2005\n",
       "\n",
       "[499 rows x 5 columns]"
      ]
     },
     "execution_count": 7,
     "metadata": {},
     "output_type": "execute_result"
    }
   ],
   "source": [
    "user_movie_title_rating_data[user_movie_title_rating_data['originalTitle']== 'Constantine']"
   ]
  },
  {
   "cell_type": "code",
   "execution_count": 8,
   "metadata": {},
   "outputs": [],
   "source": [
    "# convert the pandas dataframe to tensorflow tensor dataset\n",
    "user_movie_title_rating_data_tensor = tf.data.Dataset.from_tensor_slices(\n",
    "    user_movie_title_rating_data.to_dict('list'))\n"
   ]
  },
  {
   "cell_type": "code",
   "execution_count": 9,
   "metadata": {},
   "outputs": [
    {
     "name": "stdout",
     "output_type": "stream",
     "text": [
      "{'userID': b'ur4592644', 'movieID': b'tt0120884', 'originalTitle': b'When the Light Comes', 'rating': 10, 'review date': b'16 January 2005'}\n"
     ]
    }
   ],
   "source": [
    "for i in user_movie_title_rating_data_tensor.take(1).as_numpy_iterator():\n",
    "    print(i)"
   ]
  },
  {
   "cell_type": "code",
   "execution_count": 10,
   "metadata": {},
   "outputs": [],
   "source": [
    "# extract the needed features from our tensors\n",
    "user_movie_title_rating_data_tensor_new = user_movie_title_rating_data_tensor.map(lambda x: {\n",
    "    \"userID\": x[\"userID\"],\n",
    "    \"originalTitle\": x[\"originalTitle\"]\n",
    "})"
   ]
  },
  {
   "cell_type": "code",
   "execution_count": 11,
   "metadata": {},
   "outputs": [],
   "source": [
    "# extract movie title dictionary. \n",
    "# Format required for training the model - during the retrievel task operation where the metrics is computed\n",
    "movie_titles_dict = user_movie_title_rating_data_tensor_new.map(lambda x : {\n",
    "    'originalTitle': x['originalTitle'],\n",
    "})"
   ]
  },
  {
   "cell_type": "code",
   "execution_count": 12,
   "metadata": {},
   "outputs": [],
   "source": [
    "# shuffle dataset and split\n",
    "tf.random.set_seed(42)\n",
    "user_movie_title_rating_data_tensor_shuffled = user_movie_title_rating_data_tensor_new .shuffle(50000, seed=42, reshuffle_each_iteration=False)\n",
    "\n",
    "# split the data into train, test and validation\n",
    "train = user_movie_title_rating_data_tensor_shuffled.take(30000)\n",
    "test = user_movie_title_rating_data_tensor_shuffled.skip(30000).take(10000)\n",
    "validation = user_movie_title_rating_data_tensor_shuffled.skip(40000).take(10000)"
   ]
  },
  {
   "cell_type": "code",
   "execution_count": 13,
   "metadata": {},
   "outputs": [],
   "source": [
    "# obtain unique ids and titles which will be embedded and used for our model architecture\n",
    "user_ids = user_movie_title_rating_data_tensor_shuffled.batch(500).map(\n",
    "    lambda x: x['userID']\n",
    ")\n",
    "movie_titles = user_movie_title_rating_data_tensor_shuffled.batch(500).map(\n",
    "    lambda x: x['originalTitle']\n",
    ")\n",
    "\n",
    "unique_user_ids = np.unique(np.concatenate(list(user_ids), axis=0))\n",
    "unique_movie_titles = np.unique(np.concatenate(list(movie_titles), axis=0))"
   ]
  },
  {
   "cell_type": "markdown",
   "metadata": {},
   "source": [
    "## Implementing the Model Architecture - A two tower retrieval model"
   ]
  },
  {
   "cell_type": "markdown",
   "metadata": {},
   "source": [
    "## Query Tower - User Model (user id and sample movie already watched)"
   ]
  },
  {
   "cell_type": "code",
   "execution_count": 22,
   "metadata": {},
   "outputs": [],
   "source": [
    "# defining the two models\n",
    "embedding_dimension = 64\n",
    "\n",
    "class UserModel(tf.keras.Model):\n",
    "    def __init__(self):\n",
    "        super().__init__()\n",
    "        self.user_query_model = tf.keras.Sequential([\n",
    "            tf.keras.layers.InputLayer(input_shape=(1,), name = 'user_input', dtype = tf.string),\n",
    "            tf.keras.layers.StringLookup(vocabulary=unique_user_ids, mask_token=None),\n",
    "            tf.keras.layers.Embedding(\n",
    "                input_dim = len(unique_user_ids) + 1,\n",
    "                output_dim = embedding_dimension),\n",
    "            tf.keras.layers.Flatten(name='FlattenUser')\n",
    "            ])\n",
    "        self.movie_query_model = tf.keras.Sequential([\n",
    "            tf.keras.layers.InputLayer(input_shape=(1,), name = 'movie_input', dtype = tf.string),\n",
    "            tf.keras.layers.StringLookup(vocabulary=unique_movie_titles, mask_token=None),\n",
    "            tf.keras.layers.Embedding(\n",
    "                input_dim = len(unique_movie_titles) + 1, \n",
    "                output_dim = embedding_dimension),\n",
    "            tf.keras.layers.Flatten(name='FlattenUserMovie')\n",
    "        ])\n",
    "\n",
    "    def call(self, inputs):\n",
    "        return tf.concat([\n",
    "            self.user_query_model(inputs['userID']),\n",
    "            self.movie_query_model(inputs['originalTitle']),\n",
    "        ],\n",
    "        axis=1\n",
    "        )\n"
   ]
  },
  {
   "cell_type": "markdown",
   "metadata": {},
   "source": [
    "## Candidate Tower - Movie Model (movie titles only)"
   ]
  },
  {
   "cell_type": "code",
   "execution_count": 23,
   "metadata": {},
   "outputs": [],
   "source": [
    "embedding_dimension = 64\n",
    "\n",
    "class MovieModel(tf.keras.Model):\n",
    "    def __init__(self):\n",
    "        super().__init__()\n",
    "        self.movie_candidate_model =  tf.keras.Sequential([\n",
    "            tf.keras.layers.InputLayer(input_shape=(1,), name = 'movie_title', dtype = tf.string),\n",
    "            tf.keras.layers.StringLookup(vocabulary=unique_movie_titles, mask_token=None),\n",
    "            tf.keras.layers.Embedding(len(unique_movie_titles) + 1, embedding_dimension),\n",
    "            tf.keras.layers.Flatten(name='FlattenCandidateTitle')\n",
    "        ])\n",
    "    \n",
    "    def call(self, inputs):\n",
    "        return self.movie_candidate_model(inputs['originalTitle'])\n",
    "    "
   ]
  },
  {
   "cell_type": "code",
   "execution_count": 24,
   "metadata": {},
   "outputs": [],
   "source": [
    "\n",
    "class IMDBModel(tfrs.models.Model):\n",
    "    def __init__(self):\n",
    "        super().__init__()\n",
    "        self.query_model = tf.keras.Sequential([\n",
    "            UserModel(),\n",
    "            tf.keras.layers.Dense(32, activation=\"relu\"),\n",
    "        ])\n",
    "        self.candidate_model = tf.keras.Sequential([\n",
    "            MovieModel(),\n",
    "            tf.keras.layers.Dense(32, activation=\"relu\"),\n",
    "        ])\n",
    "        self.task = tfrs.tasks.Retrieval(\n",
    "            metrics=tfrs.metrics.FactorizedTopK(\n",
    "                candidates=movie_titles_dict.batch(100).map(self.candidate_model)\n",
    "            )\n",
    "        )\n",
    "    \n",
    "    def compute_loss(self, input, training=False) -> tf.Tensor:\n",
    "\n",
    "        user_query_embedding = self.query_model({\n",
    "            \"userID\": input['userID'],\n",
    "            \"originalTitle\": input['originalTitle']\n",
    "            \n",
    "        })\n",
    "        candidate_embedding = self.candidate_model(\n",
    "            {\n",
    "                \"originalTitle\": input['originalTitle']\n",
    "            }\n",
    "        )\n",
    "\n",
    "        loss_and_metrics = self.task(user_query_embedding, candidate_embedding)\n",
    "\n",
    "        return loss_and_metrics"
   ]
  },
  {
   "cell_type": "code",
   "execution_count": 25,
   "metadata": {},
   "outputs": [],
   "source": [
    "callbacks = [\n",
    "    tf.keras.callbacks.EarlyStopping(monitor='loss', patience=7),\n",
    "    tf.keras.callbacks.ModelCheckpoint(filepath='./logs/models/.weights.h5', save_weights_only=True, save_best_only=True, save_freq=\"epoch\",),\n",
    "    tf.keras.callbacks.TensorBoard(log_dir='./logs'),\n",
    "]\n",
    "\n",
    "# Create a retrieval model.\n",
    "model = IMDBModel()\n",
    "model.compile(\n",
    "    run_eagerly=True,\n",
    "    optimizer=tf.keras.optimizers.Adam(learning_rate=0.001)\n",
    "    )\n",
    "\n",
    "# shuffle, batch, and cache the training and evaluation data\n",
    "cached_train = train.shuffle(6000).batch(500).cache()\n",
    "cached_test = test.batch(100).cache()\n",
    "cached_val = validation.batch(100).cache()\n"
   ]
  },
  {
   "cell_type": "code",
   "execution_count": 26,
   "metadata": {},
   "outputs": [
    {
     "name": "stdout",
     "output_type": "stream",
     "text": [
      "Epoch 1/5\n"
     ]
    },
    {
     "name": "stderr",
     "output_type": "stream",
     "text": [
      "2024-10-25 03:04:05.940086: W tensorflow/core/kernels/data/cache_dataset_ops.cc:858] The calling iterator did not fully read the dataset being cached. In order to avoid unexpected truncation of the dataset, the partially cached contents of the dataset  will be discarded. This can happen if you have an input pipeline similar to `dataset.cache().take(k).repeat()`. You should use `dataset.take(k).cache().repeat()` instead.\n"
     ]
    },
    {
     "name": "stdout",
     "output_type": "stream",
     "text": [
      "60/60 [==============================] - 124s 2s/step - factorized_top_k/top_1_categorical_accuracy: 0.0527 - factorized_top_k/top_5_categorical_accuracy: 0.0558 - factorized_top_k/top_10_categorical_accuracy: 0.0580 - factorized_top_k/top_50_categorical_accuracy: 0.0653 - factorized_top_k/top_100_categorical_accuracy: 0.0737 - loss: 3091.0592 - regularization_loss: 0.0000e+00 - total_loss: 3091.0592 - val_factorized_top_k/top_1_categorical_accuracy: 0.0701 - val_factorized_top_k/top_5_categorical_accuracy: 0.0716 - val_factorized_top_k/top_10_categorical_accuracy: 0.0747 - val_factorized_top_k/top_50_categorical_accuracy: 0.0780 - val_factorized_top_k/top_100_categorical_accuracy: 0.0842 - val_loss: 447.6161 - val_regularization_loss: 0.0000e+00 - val_total_loss: 447.6161\n",
      "Epoch 2/5\n",
      "60/60 [==============================] - 125s 2s/step - factorized_top_k/top_1_categorical_accuracy: 0.0783 - factorized_top_k/top_5_categorical_accuracy: 0.0798 - factorized_top_k/top_10_categorical_accuracy: 0.0832 - factorized_top_k/top_50_categorical_accuracy: 0.0877 - factorized_top_k/top_100_categorical_accuracy: 0.0960 - loss: 2811.4310 - regularization_loss: 0.0000e+00 - total_loss: 2811.4310 - val_factorized_top_k/top_1_categorical_accuracy: 0.1148 - val_factorized_top_k/top_5_categorical_accuracy: 0.1179 - val_factorized_top_k/top_10_categorical_accuracy: 0.1237 - val_factorized_top_k/top_50_categorical_accuracy: 0.1292 - val_factorized_top_k/top_100_categorical_accuracy: 0.1439 - val_loss: 355.1189 - val_regularization_loss: 0.0000e+00 - val_total_loss: 355.1189\n",
      "Epoch 3/5\n",
      "60/60 [==============================] - 129s 2s/step - factorized_top_k/top_1_categorical_accuracy: 0.1723 - factorized_top_k/top_5_categorical_accuracy: 0.1809 - factorized_top_k/top_10_categorical_accuracy: 0.1858 - factorized_top_k/top_50_categorical_accuracy: 0.2103 - factorized_top_k/top_100_categorical_accuracy: 0.2395 - loss: 2257.9187 - regularization_loss: 0.0000e+00 - total_loss: 2257.9187 - val_factorized_top_k/top_1_categorical_accuracy: 0.2096 - val_factorized_top_k/top_5_categorical_accuracy: 0.2217 - val_factorized_top_k/top_10_categorical_accuracy: 0.2272 - val_factorized_top_k/top_50_categorical_accuracy: 0.2775 - val_factorized_top_k/top_100_categorical_accuracy: 0.3130 - val_loss: 279.4821 - val_regularization_loss: 0.0000e+00 - val_total_loss: 279.4821\n",
      "Epoch 4/5\n",
      "60/60 [==============================] - 147s 2s/step - factorized_top_k/top_1_categorical_accuracy: 0.2695 - factorized_top_k/top_5_categorical_accuracy: 0.2846 - factorized_top_k/top_10_categorical_accuracy: 0.3009 - factorized_top_k/top_50_categorical_accuracy: 0.3862 - factorized_top_k/top_100_categorical_accuracy: 0.4233 - loss: 1730.3893 - regularization_loss: 0.0000e+00 - total_loss: 1730.3893 - val_factorized_top_k/top_1_categorical_accuracy: 0.2888 - val_factorized_top_k/top_5_categorical_accuracy: 0.3056 - val_factorized_top_k/top_10_categorical_accuracy: 0.3285 - val_factorized_top_k/top_50_categorical_accuracy: 0.4296 - val_factorized_top_k/top_100_categorical_accuracy: 0.4615 - val_loss: 224.8106 - val_regularization_loss: 0.0000e+00 - val_total_loss: 224.8106\n",
      "Epoch 5/5\n",
      "60/60 [==============================] - 158s 3s/step - factorized_top_k/top_1_categorical_accuracy: 0.3465 - factorized_top_k/top_5_categorical_accuracy: 0.3805 - factorized_top_k/top_10_categorical_accuracy: 0.4323 - factorized_top_k/top_50_categorical_accuracy: 0.5539 - factorized_top_k/top_100_categorical_accuracy: 0.5983 - loss: 1228.1830 - regularization_loss: 0.0000e+00 - total_loss: 1228.1830 - val_factorized_top_k/top_1_categorical_accuracy: 0.3091 - val_factorized_top_k/top_5_categorical_accuracy: 0.3433 - val_factorized_top_k/top_10_categorical_accuracy: 0.4005 - val_factorized_top_k/top_50_categorical_accuracy: 0.5195 - val_factorized_top_k/top_100_categorical_accuracy: 0.5603 - val_loss: 186.2695 - val_regularization_loss: 0.0000e+00 - val_total_loss: 186.2695\n"
     ]
    }
   ],
   "source": [
    "start_train = True\n",
    "\n",
    "if start_train: \n",
    "    history = model.fit(\n",
    "        x=cached_train,\n",
    "        epochs=5,\n",
    "        verbose=True,\n",
    "        batch_size=16,\n",
    "        validation_data=cached_val,\n",
    "        callbacks=callbacks,\n",
    "    )"
   ]
  },
  {
   "cell_type": "code",
   "execution_count": 27,
   "metadata": {},
   "outputs": [],
   "source": [
    "if start_train:\n",
    "    model.save_weights(filepath='./weights/trained_n_personalized_model', overwrite=True)"
   ]
  },
  {
   "cell_type": "markdown",
   "metadata": {},
   "source": [
    "## Evaluation"
   ]
  },
  {
   "cell_type": "code",
   "execution_count": 28,
   "metadata": {},
   "outputs": [
    {
     "data": {
      "text/plain": [
       "[3045.552490234375,\n",
       " 2535.493896484375,\n",
       " 2001.839599609375,\n",
       " 1485.9749755859375,\n",
       " 1021.3511962890625]"
      ]
     },
     "execution_count": 28,
     "metadata": {},
     "output_type": "execute_result"
    }
   ],
   "source": [
    "history.history['loss']"
   ]
  },
  {
   "cell_type": "code",
   "execution_count": 29,
   "metadata": {},
   "outputs": [
    {
     "data": {
      "image/png": "[encoded data removed]",
      "text/plain": [
       "<Figure size 640x480 with 1 Axes>"
      ]
     },
     "metadata": {},
     "output_type": "display_data"
    }
   ],
   "source": [
    "# plotting changes in model loss during training\n",
    "import matplotlib.pyplot as plt\n",
    "\n",
    "plt.plot(history.history['loss'])\n",
    "plt.title('Model Loss During Training')\n",
    "plt.ylabel('Loss')\n",
    "plt.xlabel('Epoch')\n",
    "plt.legend(['Training Loss'], loc='upper right')\n",
    "plt.show()"
   ]
  },
  {
   "cell_type": "code",
   "execution_count": 30,
   "metadata": {},
   "outputs": [
    {
     "name": "stdout",
     "output_type": "stream",
     "text": [
      "60/60 [==============================] - 62s 1s/step - factorized_top_k/top_1_categorical_accuracy: 0.3977 - factorized_top_k/top_5_categorical_accuracy: 0.4609 - factorized_top_k/top_10_categorical_accuracy: 0.5277 - factorized_top_k/top_50_categorical_accuracy: 0.6583 - factorized_top_k/top_100_categorical_accuracy: 0.7035 - loss: 924.0807 - regularization_loss: 0.0000e+00 - total_loss: 924.0807\n",
      "100/100 [==============================] - 75s 752ms/step - factorized_top_k/top_1_categorical_accuracy: 0.3051 - factorized_top_k/top_5_categorical_accuracy: 0.3433 - factorized_top_k/top_10_categorical_accuracy: 0.3999 - factorized_top_k/top_50_categorical_accuracy: 0.5209 - factorized_top_k/top_100_categorical_accuracy: 0.5541 - loss: 194.0573 - regularization_loss: 0.0000e+00 - total_loss: 194.0573\n",
      "Top 100 train accuracy: 0.70.\n",
      "Top 100 test accuracy: 0.55.\n"
     ]
    }
   ],
   "source": [
    "# evaluating our model on train and test set\n",
    "top_100_train_accuracy = model.evaluate(cached_train, return_dict=True)['factorized_top_k/top_100_categorical_accuracy']\n",
    "top_100_test_accuracy = model.evaluate(cached_test, return_dict=True)['factorized_top_k/top_100_categorical_accuracy']\n",
    "\n",
    "\n",
    "print(f'Top 100 train accuracy: {top_100_train_accuracy:.2f}.')\n",
    "print(f'Top 100 test accuracy: {top_100_test_accuracy:.2f}.')"
   ]
  },
  {
   "cell_type": "markdown",
   "metadata": {},
   "source": [
    "## Serving"
   ]
  },
  {
   "cell_type": "code",
   "execution_count": 31,
   "metadata": {},
   "outputs": [],
   "source": [
    "# obtaining the movie ids and their titles\n",
    "index_movie = dict(user_movie_title_rating_data[['movieID', 'originalTitle']].to_numpy())"
   ]
  },
  {
   "cell_type": "code",
   "execution_count": 35,
   "metadata": {},
   "outputs": [
    {
     "name": "stdout",
     "output_type": "stream",
     "text": [
      "Recommendations for user ur3174947 who watched the movie Beetlejuice\n",
      "['Ryan', 'Ryan', 'Ryan', 'Ryan', 'Ryan']\n"
     ]
    }
   ],
   "source": [
    "# creating first 10 recommendations by retrieval\n",
    "# creating a model that takes in raw query features, and\n",
    "index = tfrs.layers.factorized_top_k.BruteForce(model.query_model, k=10)\n",
    "\n",
    "# recommends movies out of the entire movies dataset.\n",
    "index.index_from_dataset(\n",
    "    tf.data.Dataset.zip((movie_titles_dict.batch(100).map(lambda x: x['originalTitle']), \n",
    "                         movie_titles_dict.batch(100).map(lambda x : {\n",
    "    'originalTitle': x['originalTitle']}).map(model.candidate_model)))\n",
    ")\n",
    "\n",
    "\n",
    "# Get recommendations.\n",
    "_, titles = index({\n",
    "    'userID': tf.constant([\"ur3174947\"]),\n",
    "    'originalTitle': tf.constant([\"Beetlejuice\"]),\n",
    "    })\n",
    "\n",
    "print(\"Recommendations for user ur3174947 who watched the movie Beetlejuice\")\n",
    "\n",
    "titles = [idx.decode('utf-8') for idx in titles[0, :5].numpy()]\n",
    "print(titles)"
   ]
  }
 ],
 "metadata": {
  "kernelspec": {
   "display_name": ".venv",
   "language": "python",
   "name": "python3"
  },
  "language_info": {
   "codemirror_mode": {
    "name": "ipython",
    "version": 3
   },
   "file_extension": ".py",
   "mimetype": "text/x-python",
   "name": "python",
   "nbconvert_exporter": "python",
   "pygments_lexer": "ipython3",
   "version": "3.9.12"
  }
 },
 "nbformat": 4,
 "nbformat_minor": 2
}
