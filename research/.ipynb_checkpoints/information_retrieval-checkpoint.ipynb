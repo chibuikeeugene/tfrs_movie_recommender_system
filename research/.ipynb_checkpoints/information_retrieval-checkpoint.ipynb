{
 "cells": [
  {
   "cell_type": "markdown",
   "metadata": {},
   "source": [
    "## Objective - Information Retrieval:: Retrieve relevant movie candidates"
   ]
  },
  {
   "cell_type": "code",
   "execution_count": 1,
   "metadata": {},
   "outputs": [],
   "source": [
    "# load some libraries\n",
    "import numpy as np\n",
    "import pandas as pd\n",
    "import tensorflow as tf\n",
    "import keras\n",
    "import tensorflow_recommenders as tfrs\n",
    "import datetime\n",
    "import faiss\n",
    "import warnings\n",
    "import tempfile\n",
    "import os\n",
    "warnings.filterwarnings('ignore')"
   ]
  },
  {
   "cell_type": "code",
   "execution_count": 2,
   "metadata": {},
   "outputs": [],
   "source": [
    "# Load the TensorBoard notebook extension\n",
    "%load_ext tensorboard\n",
    "\n",
    "# Clear any logs from previous runs\n",
    "! rm -rf ./logs/"
   ]
  },
  {
   "cell_type": "code",
   "execution_count": 3,
   "metadata": {},
   "outputs": [],
   "source": [
    "from typing import Dict, Text"
   ]
  },
  {
   "cell_type": "code",
   "execution_count": 4,
   "metadata": {},
   "outputs": [
    {
     "data": {
      "text/html": [
       "<div>\n",
       "<style scoped>\n",
       "    .dataframe tbody tr th:only-of-type {\n",
       "        vertical-align: middle;\n",
       "    }\n",
       "\n",
       "    .dataframe tbody tr th {\n",
       "        vertical-align: top;\n",
       "    }\n",
       "\n",
       "    .dataframe thead th {\n",
       "        text-align: right;\n",
       "    }\n",
       "</style>\n",
       "<table border=\"1\" class=\"dataframe\">\n",
       "  <thead>\n",
       "    <tr style=\"text-align: right;\">\n",
       "      <th></th>\n",
       "      <th>userID</th>\n",
       "      <th>movieID</th>\n",
       "      <th>originalTitle</th>\n",
       "      <th>rating</th>\n",
       "      <th>review date</th>\n",
       "    </tr>\n",
       "  </thead>\n",
       "  <tbody>\n",
       "    <tr>\n",
       "      <th>0</th>\n",
       "      <td>ur4592644</td>\n",
       "      <td>tt0120884</td>\n",
       "      <td>When the Light Comes</td>\n",
       "      <td>10</td>\n",
       "      <td>16 January 2005</td>\n",
       "    </tr>\n",
       "    <tr>\n",
       "      <th>1</th>\n",
       "      <td>ur3174947</td>\n",
       "      <td>tt0118688</td>\n",
       "      <td>Batman &amp; Robin</td>\n",
       "      <td>3</td>\n",
       "      <td>16 January 2005</td>\n",
       "    </tr>\n",
       "    <tr>\n",
       "      <th>2</th>\n",
       "      <td>ur3780035</td>\n",
       "      <td>tt0387887</td>\n",
       "      <td>Bottom Live 2003: Weapons Grade Y-Fronts Tour</td>\n",
       "      <td>8</td>\n",
       "      <td>16 January 2005</td>\n",
       "    </tr>\n",
       "    <tr>\n",
       "      <th>3</th>\n",
       "      <td>ur4592628</td>\n",
       "      <td>tt0346491</td>\n",
       "      <td>Alexander</td>\n",
       "      <td>1</td>\n",
       "      <td>16 January 2005</td>\n",
       "    </tr>\n",
       "    <tr>\n",
       "      <th>4</th>\n",
       "      <td>ur3174947</td>\n",
       "      <td>tt0094721</td>\n",
       "      <td>Beetlejuice</td>\n",
       "      <td>8</td>\n",
       "      <td>16 January 2005</td>\n",
       "    </tr>\n",
       "  </tbody>\n",
       "</table>\n",
       "</div>"
      ],
      "text/plain": [
       "      userID    movieID                                  originalTitle  \\\n",
       "0  ur4592644  tt0120884                           When the Light Comes   \n",
       "1  ur3174947  tt0118688                                 Batman & Robin   \n",
       "2  ur3780035  tt0387887  Bottom Live 2003: Weapons Grade Y-Fronts Tour   \n",
       "3  ur4592628  tt0346491                                      Alexander   \n",
       "4  ur3174947  tt0094721                                    Beetlejuice   \n",
       "\n",
       "   rating      review date  \n",
       "0      10  16 January 2005  \n",
       "1       3  16 January 2005  \n",
       "2       8  16 January 2005  \n",
       "3       1  16 January 2005  \n",
       "4       8  16 January 2005  "
      ]
     },
     "execution_count": 4,
     "metadata": {},
     "output_type": "execute_result"
    }
   ],
   "source": [
    "# load the data\n",
    "data = pd.read_csv('sliced_user_id_and_movie_title_data.csv')\n",
    "data.head()"
   ]
  },
  {
   "cell_type": "code",
   "execution_count": 5,
   "metadata": {},
   "outputs": [
    {
     "data": {
      "text/plain": [
       "(50000, 5)"
      ]
     },
     "execution_count": 5,
     "metadata": {},
     "output_type": "execute_result"
    }
   ],
   "source": [
    "data.shape"
   ]
  },
  {
   "cell_type": "markdown",
   "metadata": {},
   "source": [
    "## Step 1: Basic data preprocessing"
   ]
  },
  {
   "cell_type": "code",
   "execution_count": 6,
   "metadata": {},
   "outputs": [],
   "source": [
    "# create a new movie title list that enforces type uniformity in its values\n",
    "# might come in handy when creaying the movie title vocalbulary\n",
    "updated_movie_titles = []\n",
    "for i in data['originalTitle']:\n",
    "    if type(i) != 'str':\n",
    "        a = str(i)\n",
    "        updated_movie_titles.append(a)\n",
    "    else:\n",
    "        updated_movie_titles.append(i)"
   ]
  },
  {
   "cell_type": "code",
   "execution_count": 7,
   "metadata": {},
   "outputs": [
    {
     "data": {
      "text/plain": [
       "0                                 When the Light Comes\n",
       "1                                       Batman & Robin\n",
       "2        Bottom Live 2003: Weapons Grade Y-Fronts Tour\n",
       "3                                            Alexander\n",
       "4                                          Beetlejuice\n",
       "                             ...                      \n",
       "49995               The Five People You Meet in Heaven\n",
       "49996                                         Sin City\n",
       "49997                                         Earthsea\n",
       "49998                                           L√©olo\n",
       "49999                                           Sahara\n",
       "Name: originalTitle, Length: 50000, dtype: object"
      ]
     },
     "execution_count": 7,
     "metadata": {},
     "output_type": "execute_result"
    }
   ],
   "source": [
    "data['originalTitle'] = updated_movie_titles\n",
    "data['originalTitle']"
   ]
  },
  {
   "cell_type": "code",
   "execution_count": 8,
   "metadata": {},
   "outputs": [],
   "source": [
    "# create a copy of the data\n",
    "df = data.copy()"
   ]
  },
  {
   "cell_type": "markdown",
   "metadata": {},
   "source": [
    "### Step1.1: convert the string typed review date to datetime format"
   ]
  },
  {
   "cell_type": "code",
   "execution_count": null,
   "metadata": {},
   "outputs": [
    {
     "name": "stdout",
     "output_type": "stream",
     "text": [
      "<class 'pandas.core.frame.DataFrame'>\n",
      "RangeIndex: 50000 entries, 0 to 49999\n",
      "Data columns (total 5 columns):\n",
      " #   Column         Non-Null Count  Dtype         \n",
      "---  ------         --------------  -----         \n",
      " 0   userID         50000 non-null  object        \n",
      " 1   movieID        50000 non-null  object        \n",
      " 2   originalTitle  50000 non-null  object        \n",
      " 3   rating         50000 non-null  int64         \n",
      " 4   review date    50000 non-null  datetime64[ns]\n",
      "dtypes: datetime64[ns](1), int64(1), object(3)\n",
      "memory usage: 1.9+ MB\n"
     ]
    }
   ],
   "source": [
    "# convert the review date to datetime\n",
    "df['review date'] = pd.to_datetime(df['review date'])\n",
    "df.info()"
   ]
  },
  {
   "cell_type": "code",
   "execution_count": 26,
   "metadata": {},
   "outputs": [
    {
     "data": {
      "text/html": [
       "<div>\n",
       "<style scoped>\n",
       "    .dataframe tbody tr th:only-of-type {\n",
       "        vertical-align: middle;\n",
       "    }\n",
       "\n",
       "    .dataframe tbody tr th {\n",
       "        vertical-align: top;\n",
       "    }\n",
       "\n",
       "    .dataframe thead th {\n",
       "        text-align: right;\n",
       "    }\n",
       "</style>\n",
       "<table border=\"1\" class=\"dataframe\">\n",
       "  <thead>\n",
       "    <tr style=\"text-align: right;\">\n",
       "      <th></th>\n",
       "      <th>userID</th>\n",
       "      <th>movieID</th>\n",
       "      <th>originalTitle</th>\n",
       "      <th>rating</th>\n",
       "      <th>review date</th>\n",
       "      <th>review date in unix</th>\n",
       "    </tr>\n",
       "  </thead>\n",
       "  <tbody>\n",
       "    <tr>\n",
       "      <th>0</th>\n",
       "      <td>ur4592644</td>\n",
       "      <td>tt0120884</td>\n",
       "      <td>When the Light Comes</td>\n",
       "      <td>10</td>\n",
       "      <td>2005-01-16</td>\n",
       "      <td>1.105834e+09</td>\n",
       "    </tr>\n",
       "    <tr>\n",
       "      <th>1</th>\n",
       "      <td>ur3174947</td>\n",
       "      <td>tt0118688</td>\n",
       "      <td>Batman &amp; Robin</td>\n",
       "      <td>3</td>\n",
       "      <td>2005-01-16</td>\n",
       "      <td>1.105834e+09</td>\n",
       "    </tr>\n",
       "    <tr>\n",
       "      <th>2</th>\n",
       "      <td>ur3780035</td>\n",
       "      <td>tt0387887</td>\n",
       "      <td>Bottom Live 2003: Weapons Grade Y-Fronts Tour</td>\n",
       "      <td>8</td>\n",
       "      <td>2005-01-16</td>\n",
       "      <td>1.105834e+09</td>\n",
       "    </tr>\n",
       "    <tr>\n",
       "      <th>3</th>\n",
       "      <td>ur4592628</td>\n",
       "      <td>tt0346491</td>\n",
       "      <td>Alexander</td>\n",
       "      <td>1</td>\n",
       "      <td>2005-01-16</td>\n",
       "      <td>1.105834e+09</td>\n",
       "    </tr>\n",
       "    <tr>\n",
       "      <th>4</th>\n",
       "      <td>ur3174947</td>\n",
       "      <td>tt0094721</td>\n",
       "      <td>Beetlejuice</td>\n",
       "      <td>8</td>\n",
       "      <td>2005-01-16</td>\n",
       "      <td>1.105834e+09</td>\n",
       "    </tr>\n",
       "  </tbody>\n",
       "</table>\n",
       "</div>"
      ],
      "text/plain": [
       "      userID    movieID                                  originalTitle  \\\n",
       "0  ur4592644  tt0120884                           When the Light Comes   \n",
       "1  ur3174947  tt0118688                                 Batman & Robin   \n",
       "2  ur3780035  tt0387887  Bottom Live 2003: Weapons Grade Y-Fronts Tour   \n",
       "3  ur4592628  tt0346491                                      Alexander   \n",
       "4  ur3174947  tt0094721                                    Beetlejuice   \n",
       "\n",
       "   rating review date  review date in unix  \n",
       "0      10  2005-01-16         1.105834e+09  \n",
       "1       3  2005-01-16         1.105834e+09  \n",
       "2       8  2005-01-16         1.105834e+09  \n",
       "3       1  2005-01-16         1.105834e+09  \n",
       "4       8  2005-01-16         1.105834e+09  "
      ]
     },
     "execution_count": 26,
     "metadata": {},
     "output_type": "execute_result"
    }
   ],
   "source": [
    "# convert the datetime to just unix timestamp\n",
    "df['review date in unix'] = [datetime.datetime.timestamp(time) for time in df['review date']]\n",
    "df.head()"
   ]
  },
  {
   "cell_type": "code",
   "execution_count": null,
   "metadata": {},
   "outputs": [],
   "source": [
    "# sort the data by review date so that we can split the data into training, testing and validation sets\n",
    "df.sort_values(by='review date', inplace=True)\n",
    "df.reset_index(drop=True, inplace=True)\n",
    "df.head(20)"
   ]
  },
  {
   "cell_type": "markdown",
   "metadata": {},
   "source": [
    "### Step1.2: split the data(into train, test and val) based on date so as you use past records for training "
   ]
  },
  {
   "cell_type": "code",
   "execution_count": null,
   "metadata": {},
   "outputs": [],
   "source": [
    "# split the data into training, testing and validation sets \n",
    "train = df[:int(0.7*len(df))]\n",
    "test = df[int(0.7*len(df)):int(0.85*len(df))]\n",
    "val = df[int(0.85*len(df)):]\n",
    "print('train:', train.shape)\n",
    "print('test:', test.shape)\n",
    "print('val:', val.shape)    "
   ]
  },
  {
   "cell_type": "code",
   "execution_count": null,
   "metadata": {},
   "outputs": [],
   "source": [
    "# drop the review date column\n",
    "train = train.drop('review date', axis=1)\n",
    "test = test.drop('review date', axis=1)\n",
    "val = val.drop('review date', axis=1)"
   ]
  },
  {
   "cell_type": "markdown",
   "metadata": {},
   "source": [
    "### Step1.3: Convert the pandas dataset to tensor dataset"
   ]
  },
  {
   "cell_type": "code",
   "execution_count": null,
   "metadata": {},
   "outputs": [],
   "source": [
    "# convert the train, test and val into a tensorflow dataset\n",
    "train_df = tf.data.Dataset.from_tensor_slices(train.to_dict('list'))\n",
    "test_df = tf.data.Dataset.from_tensor_slices(test.to_dict('list'))\n",
    "val_df = tf.data.Dataset.from_tensor_slices(val.to_dict('list'))\n"
   ]
  },
  {
   "cell_type": "markdown",
   "metadata": {},
   "source": [
    "### Step 1.4: Extract the needed features and create a json object for use in our training"
   ]
  },
  {
   "cell_type": "code",
   "execution_count": null,
   "metadata": {},
   "outputs": [],
   "source": [
    "# selecting just the user id and movie title\n",
    "train_df = train_df.map(lambda x : {\n",
    "    'userID': x['userID'],\n",
    "    'originalTitle': x['originalTitle']\n",
    "})\n",
    "test_df = test_df.map(lambda x : {\n",
    "    'userID': x['userID'],\n",
    "    'originalTitle': x['originalTitle']\n",
    "})\n",
    "val_df = val_df.map(lambda x : {\n",
    "    'userID': x['userID'],\n",
    "    'originalTitle': x['originalTitle']\n",
    "})"
   ]
  },
  {
   "cell_type": "markdown",
   "metadata": {},
   "source": [
    "### Step 1.5: Obtain a movie title and user id tensor items"
   ]
  },
  {
   "cell_type": "code",
   "execution_count": null,
   "metadata": {},
   "outputs": [],
   "source": [
    "# obtaining a movie title list\n",
    "\n",
    "# first convert df to a tensforflow dataset\n",
    "df = df.drop('review date', axis= 1)\n",
    "\n",
    "df_tensor = tf.data.Dataset.from_tensor_slices(df.to_dict('list'))\n",
    "\n",
    "# select just the movie titles\n",
    "movie_titles =  df_tensor.map(lambda x: x['originalTitle'])\n",
    "\n",
    "\n",
    "# selecting just the user id\n",
    "user_ids = df_tensor.map(lambda x: x['userID'])\n",
    "\n",
    "# view the movie titles\n",
    "movie_titles"
   ]
  },
  {
   "cell_type": "code",
   "execution_count": null,
   "metadata": {},
   "outputs": [],
   "source": [
    "for val in movie_titles.take(5).as_numpy_iterator():\n",
    "    print(val)"
   ]
  },
  {
   "cell_type": "code",
   "execution_count": null,
   "metadata": {},
   "outputs": [],
   "source": [
    "type(user_ids)"
   ]
  },
  {
   "cell_type": "markdown",
   "metadata": {},
   "source": [
    "### Step 1.6: Batch and cache the dataset and create a movie and user vocabulary"
   ]
  },
  {
   "cell_type": "code",
   "execution_count": null,
   "metadata": {},
   "outputs": [],
   "source": [
    "# batching the datasets for better performance, speed and memory efficiency\n",
    "movie_titles_batched = movie_titles.batch(1000)\n",
    "user_ids_batched = user_ids.batch(1000)\n",
    "\n",
    "\n",
    "# obtain the unique movie titles and user ids\n",
    "unique_movie_titles = np.unique(np.concatenate(list(movie_titles_batched)))\n",
    "unique_user_ids = np.unique(np.concatenate(list(user_ids_batched)))"
   ]
  },
  {
   "cell_type": "code",
   "execution_count": null,
   "metadata": {},
   "outputs": [],
   "source": [
    "unique_movie_titles.shape"
   ]
  },
  {
   "cell_type": "markdown",
   "metadata": {},
   "source": [
    "## Step 2: Model development - 2 tower retrieval model"
   ]
  },
  {
   "cell_type": "markdown",
   "metadata": {},
   "source": [
    "### Query tower"
   ]
  },
  {
   "cell_type": "code",
   "execution_count": null,
   "metadata": {},
   "outputs": [],
   "source": [
    "# define the embedding size or dimension\n",
    "embedding_dimension = 32\n",
    "\n",
    "# converting user ids to integers and then to embeddings using keras prprocessing layers\n",
    "query_model = tf.keras.Sequential([\n",
    "    tf.keras.layers.StringLookup( # convert the string user ids to integer indices\n",
    "        vocabulary = unique_user_ids, mask_token=None\n",
    "    ),\n",
    "    tf.keras.layers.Embedding( # convert the indices to vector embeddings\n",
    "        len(unique_user_ids) + 1, embedding_dimension\n",
    "    )\n",
    "])\n"
   ]
  },
  {
   "cell_type": "markdown",
   "metadata": {},
   "source": [
    "## Candidate tower"
   ]
  },
  {
   "cell_type": "code",
   "execution_count": null,
   "metadata": {},
   "outputs": [],
   "source": [
    "movie_model = tf.keras.Sequential([\n",
    "    tf.keras.layers.StringLookup(\n",
    "        vocabulary = unique_movie_titles, mask_token =None\n",
    "    ),\n",
    "    tf.keras.layers.Embedding(\n",
    "        len(unique_movie_titles) + 1, embedding_dimension\n",
    "    )\n",
    "])\n"
   ]
  },
  {
   "cell_type": "markdown",
   "metadata": {},
   "source": [
    "## Define Metrics to be observed"
   ]
  },
  {
   "cell_type": "code",
   "execution_count": null,
   "metadata": {},
   "outputs": [],
   "source": [
    "metrics = tfrs.metrics.FactorizedTopK(\n",
    "    candidates= movie_titles.batch(128).map(movie_model)\n",
    ")"
   ]
  },
  {
   "cell_type": "markdown",
   "metadata": {},
   "source": [
    "## Define Loss "
   ]
  },
  {
   "cell_type": "code",
   "execution_count": null,
   "metadata": {},
   "outputs": [],
   "source": [
    "tasks  =  tfrs.tasks.Retrieval(\n",
    "    metrics =  metrics\n",
    ")"
   ]
  },
  {
   "cell_type": "markdown",
   "metadata": {},
   "source": [
    "## Full Model Architecture"
   ]
  },
  {
   "cell_type": "code",
   "execution_count": null,
   "metadata": {},
   "outputs": [],
   "source": [
    "# using the tfrs.Model class\n",
    "\n",
    "class Movie_model(tfrs.Model):\n",
    "    def __init__(self, movie_model, user_model):\n",
    "        super().__init__()\n",
    "        self.movie_model: tf.keras.Model = movie_model\n",
    "        self.user_model: tf.keras.Model = user_model\n",
    "        self.tasks: tf.keras.layers.Layer =  tasks\n",
    "\n",
    "    \n",
    "    def compute_loss(self, features, training = False) -> tf.Tensor:\n",
    "\n",
    "        # pass the user id feature\n",
    "        user_embeddings = self.user_model(features['userID'])\n",
    "\n",
    "        # pass the movie title feature\n",
    "        positive_movie_embeddings = self.movie_model(features['originalTitle'])\n",
    "\n",
    "        metrics_and_loss = self.tasks(user_embeddings, positive_movie_embeddings)\n",
    "\n",
    "        return metrics_and_loss\n"
   ]
  },
  {
   "cell_type": "code",
   "execution_count": null,
   "metadata": {},
   "outputs": [],
   "source": [
    "tf.random.set_seed(42)\n",
    "cached_train_df  = train_df.batch(1000).cache()\n",
    "cached_test_df  = test_df.batch(1000).cache()\n",
    "cached_val_df  = val_df.batch(1000).cache()"
   ]
  },
  {
   "cell_type": "markdown",
   "metadata": {},
   "source": [
    "## Compiling and Fitting Model"
   ]
  },
  {
   "cell_type": "code",
   "execution_count": null,
   "metadata": {},
   "outputs": [],
   "source": [
    "model = Movie_model(movie_model, query_model)\n",
    "model.compile(optimizer=tf.keras.optimizers.legacy.Adagrad(learning_rate=0.01))\n",
    "\n",
    "# using tensorboard for observability\n",
    "log_dir = \"logs/fit/\" + datetime.datetime.now().strftime(\"%Y%m%d-%H%M%S\")\n",
    "tensorboard_callback = tf.keras.callbacks.TensorBoard(log_dir=log_dir, histogram_freq=1)\n",
    "\n",
    "model.fit(cached_train_df, epochs= 10, validation_data=cached_val_df, callbacks=[tensorboard_callback])"
   ]
  },
  {
   "cell_type": "markdown",
   "metadata": {},
   "source": [
    "## Predicting or recommending for new user"
   ]
  },
  {
   "cell_type": "code",
   "execution_count": null,
   "metadata": {},
   "outputs": [],
   "source": [
    "# user BruteForce from factorized top-k\n",
    "\n",
    "# creating the model that takes in raw query features\n",
    "index = tfrs.layers.factorized_top_k.BruteForce(model.user_model)\n",
    "\n",
    "# recommends movie out of the entire dataset\n",
    "index.index_from_dataset(\n",
    "    tf.data.Dataset.zip(\n",
    "        (movie_titles.batch(100), movie_titles.batch(100).map(model.movie_model))\n",
    ")\n",
    ")\n",
    "\n",
    "# getting recommendations\n",
    "# Get recommendations.\n",
    "_, titles = index(tf.constant(['ur3174947']))\n",
    "print(f\"Recommendations for user ur3174947: {titles[0, :10]}\")"
   ]
  },
  {
   "cell_type": "markdown",
   "metadata": {},
   "source": [
    "# Since BruteForce is slow for serving a model with many possible candidates we explore approximate retrieval index"
   ]
  },
  {
   "cell_type": "code",
   "execution_count": null,
   "metadata": {},
   "outputs": [],
   "source": [
    "# Using FAISS for approximate retrieval operation\n",
    "\n",
    "# creating a distance based indices\n",
    "faiss_index = faiss.IndexFlatL2(embedding_dimension)\n",
    "\n",
    "\n",
    "# list to store movied ids. This will be used to retrieve the movie names later\n",
    "movie_ids_list = []\n",
    "\n",
    "# a function to index movie embeddings in FAISS\n",
    "def index_movie_in_faiss(movies, movie_ids):\n",
    "    # retrieve movie embeddings\n",
    "    movie_embeddings = model.movie_model(movies)\n",
    "\n",
    "    # Check the shape of the embeddings\n",
    "    print(f'shape of the movie_embeddings: {movie_embeddings.shape}')\n",
    "\n",
    "    # convert to a numpy array\n",
    "    movie_embeddings_np = movie_embeddings.numpy()\n",
    "\n",
    "    # add the movie embeddings to the faiss index\n",
    "    faiss_index.add(movie_embeddings_np)\n",
    "\n",
    "    # Update the movie ID list (ensure the order is consistent)\n",
    "    movie_ids_list.extend(movie_ids)  # Add the movie IDs of the current batch\n",
    "\n",
    "    print(f'length of the variable - movie_ids_list: {len(movie_ids_list)}') # for observability"
   ]
  },
  {
   "cell_type": "code",
   "execution_count": null,
   "metadata": {},
   "outputs": [],
   "source": [
    "# function to perform similarity search\n",
    "def search_top_k(user_id, k):\n",
    "    # get the user embeddings and convert it to numpy array\n",
    "    user_embeddings = model.user_model(user_id)\n",
    "    user_embeddings_np = user_embeddings.numpy()\n",
    "\n",
    "    # performing search in faiss index\n",
    "    distances, indices = faiss_index.search(user_embeddings_np, k)\n",
    "\n",
    "    # Print indices for debugging\n",
    "    print(f\"indices: {indices}\")\n",
    "\n",
    "    # Convert indices to movie IDs using the mapping\n",
    "    recommended_movie_ids = []\n",
    "    for index in indices:\n",
    "        # print(index)\n",
    "        movie_id_for_each_index = [movie_ids_list[i] for i in index] # Retrieve movie IDs for each index\n",
    "        recommended_movie_ids.append(movie_id_for_each_index)\n",
    "\n",
    "    return distances, recommended_movie_ids\n",
    "    "
   ]
  },
  {
   "cell_type": "code",
   "execution_count": null,
   "metadata": {},
   "outputs": [],
   "source": [
    "movie_titles_with_ids =  df_tensor.map(lambda x: \n",
    "    {\n",
    "    'movieID': x['movieID'],\n",
    "    'originalTitle': x['originalTitle']\n",
    "    }\n",
    ")\n",
    "\n",
    "\n",
    "for movie in movie_titles_with_ids.batch(100).as_numpy_iterator():\n",
    "    # Assume movie_batch contains a list of movie features and movie_ids_batch is a list of IDs\n",
    "    movie_ids_batch = [mov for mov in movie['movieID']]  # return the movie ids for the batch\n",
    "    # print(f'length of the movie_ids for a 100 batch: {len(movie_ids_batch)}')\n",
    "    index_movie_in_faiss(movie['originalTitle'], movie_ids_batch)\n",
    "\n",
    "# searching for the top k most similar movies for a user\n",
    "user = tf.constant(['ur3174947'])\n",
    "distances, recommended_movie_ids = search_top_k(user, k=10)\n",
    "\n",
    "# Print the recommended movie IDs for the user\n",
    "print(f\"Recommended Movie IDs: {recommended_movie_ids}\")"
   ]
  },
  {
   "cell_type": "code",
   "execution_count": null,
   "metadata": {},
   "outputs": [],
   "source": [
    "for movie in movie_titles_with_ids.take(20).batch(10).as_numpy_iterator():\n",
    "    print(movie['movieID'])"
   ]
  },
  {
   "cell_type": "code",
   "execution_count": null,
   "metadata": {},
   "outputs": [],
   "source": [
    "# removing duplicates from result\n",
    "final_movie_recommended_ids = list(dict.fromkeys(recommended_movie_ids[0]))\n",
    "final_movie_recommended_ids"
   ]
  },
  {
   "cell_type": "code",
   "execution_count": null,
   "metadata": {},
   "outputs": [],
   "source": [
    "# converting byte strings to string\n",
    "recommended_movie_str =[val.decode(encoding='utf-8') for val in final_movie_recommended_ids]\n",
    "recommended_movie_str"
   ]
  },
  {
   "cell_type": "code",
   "execution_count": null,
   "metadata": {},
   "outputs": [],
   "source": [
    "# FAISS Retrival claas\n",
    "class Faiss_retrieval_index():\n",
    "    \"\"\" Using FAISS for approximate retrieval operation \n",
    "    \n",
    "    * args:\n",
    "    embedding_dimension: The dimension size of the vectors\n",
    "\n",
    "    * model: This is the already compiled and trained_model\n",
    "    \"\"\"\n",
    "\n",
    "    # list to store movie ids. This will be used to retrieve the movie names later\n",
    "    movie_ids_list = []\n",
    "\n",
    "    def __init__(self, embedding_dimension, model):\n",
    "        self.embedding_dimension = embedding_dimension\n",
    "        self.movie_model = model.movie_model\n",
    "        self.query_model = model.user_model\n",
    "        # creating a distance based indices\n",
    "        self.faiss_index = faiss.IndexFlatL2(self.embedding_dimension)\n",
    "\n",
    "\n",
    "    # a function to index movie embeddings in FAISS\n",
    "    def index_movie_in_faiss(self, movies, movie_ids):\n",
    "        \"\"\" function that index movie embeddings\n",
    "\n",
    "        args:\n",
    "        * movies -  a batch of movie title list derived from a tensor dataset\n",
    "\n",
    "        * movie_ids - the ids of the batch of movie title list\n",
    "        \n",
    "        \"\"\"\n",
    "        # retrieve movie embeddings\n",
    "        movie_embeddings = self.movie_model(movies)\n",
    "\n",
    "        # Check the shape of the embeddings\n",
    "        print(f'shape of the movie_embeddings: {movie_embeddings.shape}')\n",
    "\n",
    "        # convert to a numpy array\n",
    "        movie_embeddings_np = movie_embeddings.numpy()\n",
    "\n",
    "        # add the movie embeddings to the faiss index\n",
    "        self.faiss_index.add(movie_embeddings_np)\n",
    "\n",
    "        # Update the movie ID list (ensure the order is consistent)\n",
    "        movie_ids_list.extend(movie_ids)  # Add the movie IDs of the current batch\n",
    "\n",
    "        print(f'length of the variable - movie_ids_list: {len(movie_ids_list)}') # for observability\n",
    "    \n",
    "    # function to perform similarity search\n",
    "    def search_top_k(self, user_id, k):\n",
    "        \"\"\" perform similarity search of the query with the existing embeddings\n",
    "        \n",
    "        args:\n",
    "        * user_id: the id which represents the query we hope to find a result for\n",
    "\n",
    "        * k: the number of possible result to be returned\n",
    "        \"\"\"\n",
    "\n",
    "        # get the user embeddings and convert it to numpy array\n",
    "        user_embeddings = self.query_model(user_id)\n",
    "        user_embeddings_np = user_embeddings.numpy()\n",
    "\n",
    "        # performing search in faiss index\n",
    "        distances, indices = self.faiss_index.search(user_embeddings_np, k)\n",
    "\n",
    "        # Print indices for debugging\n",
    "        print(f\"indices: {indices}\")\n",
    "\n",
    "        # Convert indices to movie IDs using the mapping\n",
    "        recommended_movie_ids = []\n",
    "        for index in indices:\n",
    "            # print(index)\n",
    "            movie_id_for_each_index = [movie_ids_list[i] for i in index] # Retrieve movie IDs for each index\n",
    "            recommended_movie_ids.append(movie_id_for_each_index)\n",
    "\n",
    "        return distances, recommended_movie_ids\n",
    "    "
   ]
  },
  {
   "cell_type": "code",
   "execution_count": null,
   "metadata": {},
   "outputs": [],
   "source": [
    "\n",
    "faiss_retrieval =  Faiss_retrieval_index(embedding_dimension=32, model=model)\n",
    "movie_titles_with_ids =  df_tensor.map(lambda x: \n",
    "    {\n",
    "    'movieID': x['movieID'],\n",
    "    'originalTitle': x['originalTitle']\n",
    "    }\n",
    ")\n",
    "\n",
    "\n",
    "for movie in movie_titles_with_ids.batch(100).as_numpy_iterator():\n",
    "    movie_ids_batch = [mov for mov in movie['movieID']]  # return the movie ids for the batch\n",
    "    faiss_retrieval.index_movie_in_faiss(movie['originalTitle'], movie_ids_batch)\n",
    "\n",
    "# searching for the top k most similar movies for a user\n",
    "user = tf.constant(['ur3174947'])\n",
    "distances, recommended_movie_ids = faiss_retrieval.search_top_k(user, k=10)\n",
    "\n",
    "# Print the recommended movie IDs for the user\n",
    "print(f\"Recommended Movie IDs: {recommended_movie_ids}\")"
   ]
  },
  {
   "cell_type": "code",
   "execution_count": null,
   "metadata": {},
   "outputs": [],
   "source": []
  }
 ],
 "metadata": {
  "kernelspec": {
   "display_name": "tf_recommender",
   "language": "python",
   "name": "python3"
  },
  "language_info": {
   "codemirror_mode": {
    "name": "ipython",
    "version": 3
   },
   "file_extension": ".py",
   "mimetype": "text/x-python",
   "name": "python",
   "nbconvert_exporter": "python",
   "pygments_lexer": "ipython3",
   "version": "3.9.21"
  }
 },
 "nbformat": 4,
 "nbformat_minor": 2
}
